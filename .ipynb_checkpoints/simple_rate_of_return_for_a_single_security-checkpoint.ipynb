{
 "cells": [
  {
   "cell_type": "code",
   "execution_count": 1,
   "id": "99b40060",
   "metadata": {},
   "outputs": [],
   "source": [
    "import pandas as pd\n",
    "import numpy as np\n",
    "from pandas_datareader import data as pdr\n",
    "import yfinance as yfin\n",
    "import matplotlib.pyplot as plt"
   ]
  },
  {
   "cell_type": "markdown",
   "id": "cb3be988",
   "metadata": {},
   "source": [
    "# importing Procter and Gamble data from yahoo"
   ]
  },
  {
   "cell_type": "code",
   "execution_count": 19,
   "id": "4a1e69d3",
   "metadata": {},
   "outputs": [
    {
     "name": "stderr",
     "output_type": "stream",
     "text": [
      "[*********************100%%**********************]  1 of 1 completed\n"
     ]
    }
   ],
   "source": [
    "yfin.pdr_override() #  you ensure compatibility with the Yahoo Finance API changes and possibly improve the reliability and functionality of data retrieval from Yahoo Finance within your code\n",
    "\n",
    "PG = pdr.get_data_yahoo(\"PG\", start=\"1995-1-1\", end=\"2024-3-23\")"
   ]
  },
  {
   "cell_type": "code",
   "execution_count": 20,
   "id": "f329b2a2",
   "metadata": {},
   "outputs": [
    {
     "data": {
      "text/html": [
       "<div>\n",
       "<style scoped>\n",
       "    .dataframe tbody tr th:only-of-type {\n",
       "        vertical-align: middle;\n",
       "    }\n",
       "\n",
       "    .dataframe tbody tr th {\n",
       "        vertical-align: top;\n",
       "    }\n",
       "\n",
       "    .dataframe thead th {\n",
       "        text-align: right;\n",
       "    }\n",
       "</style>\n",
       "<table border=\"1\" class=\"dataframe\">\n",
       "  <thead>\n",
       "    <tr style=\"text-align: right;\">\n",
       "      <th></th>\n",
       "      <th>Open</th>\n",
       "      <th>High</th>\n",
       "      <th>Low</th>\n",
       "      <th>Close</th>\n",
       "      <th>Adj Close</th>\n",
       "      <th>Volume</th>\n",
       "    </tr>\n",
       "    <tr>\n",
       "      <th>Date</th>\n",
       "      <th></th>\n",
       "      <th></th>\n",
       "      <th></th>\n",
       "      <th></th>\n",
       "      <th></th>\n",
       "      <th></th>\n",
       "    </tr>\n",
       "  </thead>\n",
       "  <tbody>\n",
       "    <tr>\n",
       "      <th>1995-01-03</th>\n",
       "      <td>15.46875</td>\n",
       "      <td>15.62500</td>\n",
       "      <td>15.43750</td>\n",
       "      <td>15.59375</td>\n",
       "      <td>7.578557</td>\n",
       "      <td>3318400</td>\n",
       "    </tr>\n",
       "    <tr>\n",
       "      <th>1995-01-04</th>\n",
       "      <td>15.53125</td>\n",
       "      <td>15.65625</td>\n",
       "      <td>15.31250</td>\n",
       "      <td>15.46875</td>\n",
       "      <td>7.517807</td>\n",
       "      <td>2218800</td>\n",
       "    </tr>\n",
       "    <tr>\n",
       "      <th>1995-01-05</th>\n",
       "      <td>15.37500</td>\n",
       "      <td>15.43750</td>\n",
       "      <td>15.21875</td>\n",
       "      <td>15.25000</td>\n",
       "      <td>7.411491</td>\n",
       "      <td>2319600</td>\n",
       "    </tr>\n",
       "    <tr>\n",
       "      <th>1995-01-06</th>\n",
       "      <td>15.15625</td>\n",
       "      <td>15.40625</td>\n",
       "      <td>15.15625</td>\n",
       "      <td>15.28125</td>\n",
       "      <td>7.426678</td>\n",
       "      <td>3438000</td>\n",
       "    </tr>\n",
       "    <tr>\n",
       "      <th>1995-01-09</th>\n",
       "      <td>15.34375</td>\n",
       "      <td>15.40625</td>\n",
       "      <td>15.18750</td>\n",
       "      <td>15.21875</td>\n",
       "      <td>7.396307</td>\n",
       "      <td>1795200</td>\n",
       "    </tr>\n",
       "  </tbody>\n",
       "</table>\n",
       "</div>"
      ],
      "text/plain": [
       "                Open      High       Low     Close  Adj Close   Volume\n",
       "Date                                                                  \n",
       "1995-01-03  15.46875  15.62500  15.43750  15.59375   7.578557  3318400\n",
       "1995-01-04  15.53125  15.65625  15.31250  15.46875   7.517807  2218800\n",
       "1995-01-05  15.37500  15.43750  15.21875  15.25000   7.411491  2319600\n",
       "1995-01-06  15.15625  15.40625  15.15625  15.28125   7.426678  3438000\n",
       "1995-01-09  15.34375  15.40625  15.18750  15.21875   7.396307  1795200"
      ]
     },
     "execution_count": 20,
     "metadata": {},
     "output_type": "execute_result"
    }
   ],
   "source": [
    "PG.head()"
   ]
  },
  {
   "cell_type": "code",
   "execution_count": 21,
   "id": "73f6acec",
   "metadata": {},
   "outputs": [
    {
     "data": {
      "text/html": [
       "<div>\n",
       "<style scoped>\n",
       "    .dataframe tbody tr th:only-of-type {\n",
       "        vertical-align: middle;\n",
       "    }\n",
       "\n",
       "    .dataframe tbody tr th {\n",
       "        vertical-align: top;\n",
       "    }\n",
       "\n",
       "    .dataframe thead th {\n",
       "        text-align: right;\n",
       "    }\n",
       "</style>\n",
       "<table border=\"1\" class=\"dataframe\">\n",
       "  <thead>\n",
       "    <tr style=\"text-align: right;\">\n",
       "      <th></th>\n",
       "      <th>Open</th>\n",
       "      <th>High</th>\n",
       "      <th>Low</th>\n",
       "      <th>Close</th>\n",
       "      <th>Adj Close</th>\n",
       "      <th>Volume</th>\n",
       "    </tr>\n",
       "    <tr>\n",
       "      <th>Date</th>\n",
       "      <th></th>\n",
       "      <th></th>\n",
       "      <th></th>\n",
       "      <th></th>\n",
       "      <th></th>\n",
       "      <th></th>\n",
       "    </tr>\n",
       "  </thead>\n",
       "  <tbody>\n",
       "    <tr>\n",
       "      <th>2024-03-18</th>\n",
       "      <td>161.479996</td>\n",
       "      <td>162.720001</td>\n",
       "      <td>161.000000</td>\n",
       "      <td>161.210007</td>\n",
       "      <td>161.210007</td>\n",
       "      <td>6086300</td>\n",
       "    </tr>\n",
       "    <tr>\n",
       "      <th>2024-03-19</th>\n",
       "      <td>161.800003</td>\n",
       "      <td>162.169998</td>\n",
       "      <td>161.169998</td>\n",
       "      <td>161.830002</td>\n",
       "      <td>161.830002</td>\n",
       "      <td>6148100</td>\n",
       "    </tr>\n",
       "    <tr>\n",
       "      <th>2024-03-20</th>\n",
       "      <td>162.009995</td>\n",
       "      <td>162.399994</td>\n",
       "      <td>161.470001</td>\n",
       "      <td>161.990005</td>\n",
       "      <td>161.990005</td>\n",
       "      <td>4870300</td>\n",
       "    </tr>\n",
       "    <tr>\n",
       "      <th>2024-03-21</th>\n",
       "      <td>162.089996</td>\n",
       "      <td>162.460007</td>\n",
       "      <td>161.119995</td>\n",
       "      <td>161.860001</td>\n",
       "      <td>161.860001</td>\n",
       "      <td>5211500</td>\n",
       "    </tr>\n",
       "    <tr>\n",
       "      <th>2024-03-22</th>\n",
       "      <td>162.199997</td>\n",
       "      <td>162.410004</td>\n",
       "      <td>161.470001</td>\n",
       "      <td>161.660004</td>\n",
       "      <td>161.660004</td>\n",
       "      <td>6393200</td>\n",
       "    </tr>\n",
       "  </tbody>\n",
       "</table>\n",
       "</div>"
      ],
      "text/plain": [
       "                  Open        High         Low       Close   Adj Close  \\\n",
       "Date                                                                     \n",
       "2024-03-18  161.479996  162.720001  161.000000  161.210007  161.210007   \n",
       "2024-03-19  161.800003  162.169998  161.169998  161.830002  161.830002   \n",
       "2024-03-20  162.009995  162.399994  161.470001  161.990005  161.990005   \n",
       "2024-03-21  162.089996  162.460007  161.119995  161.860001  161.860001   \n",
       "2024-03-22  162.199997  162.410004  161.470001  161.660004  161.660004   \n",
       "\n",
       "             Volume  \n",
       "Date                 \n",
       "2024-03-18  6086300  \n",
       "2024-03-19  6148100  \n",
       "2024-03-20  4870300  \n",
       "2024-03-21  5211500  \n",
       "2024-03-22  6393200  "
      ]
     },
     "execution_count": 21,
     "metadata": {},
     "output_type": "execute_result"
    }
   ],
   "source": [
    "PG.tail()"
   ]
  },
  {
   "cell_type": "markdown",
   "id": "d079ab1c",
   "metadata": {},
   "source": [
    "Changing the index column to a regular column while keeping the date information"
   ]
  },
  {
   "cell_type": "code",
   "execution_count": 22,
   "id": "59bfc861",
   "metadata": {},
   "outputs": [],
   "source": [
    "PG.reset_index(inplace=True, drop=False)"
   ]
  },
  {
   "cell_type": "markdown",
   "id": "a045350e",
   "metadata": {},
   "source": [
    "The adjusted closing price is the closing price after dividend payouts, stock splits, or the issue of additional shares have been taken into account."
   ]
  },
  {
   "cell_type": "code",
   "execution_count": 23,
   "id": "e1aed394",
   "metadata": {},
   "outputs": [],
   "source": [
    "PG['simple_return'] = (PG['Adj Close']/PG['Adj Close'].shift(1)) - 1"
   ]
  },
  {
   "cell_type": "code",
   "execution_count": 24,
   "id": "c950b4bc",
   "metadata": {},
   "outputs": [
    {
     "data": {
      "text/plain": [
       "0            NaN\n",
       "1      -0.008016\n",
       "2      -0.014142\n",
       "3       0.002049\n",
       "4      -0.004089\n",
       "          ...   \n",
       "7352   -0.001053\n",
       "7353    0.003846\n",
       "7354    0.000989\n",
       "7355   -0.000803\n",
       "7356   -0.001236\n",
       "Name: simple_return, Length: 7357, dtype: float64"
      ]
     },
     "execution_count": 24,
     "metadata": {},
     "output_type": "execute_result"
    }
   ],
   "source": [
    "PG['simple_return']"
   ]
  },
  {
   "cell_type": "code",
   "execution_count": 25,
   "id": "f1d23d64",
   "metadata": {},
   "outputs": [],
   "source": [
    "PG[np.isnan(PG)] = 0"
   ]
  },
  {
   "cell_type": "code",
   "execution_count": 26,
   "id": "42a63b10",
   "metadata": {},
   "outputs": [
    {
     "data": {
      "text/plain": [
       "0       0.000000\n",
       "1      -0.008016\n",
       "2      -0.014142\n",
       "3       0.002049\n",
       "4      -0.004089\n",
       "          ...   \n",
       "7352   -0.001053\n",
       "7353    0.003846\n",
       "7354    0.000989\n",
       "7355   -0.000803\n",
       "7356   -0.001236\n",
       "Name: simple_return, Length: 7357, dtype: float64"
      ]
     },
     "execution_count": 26,
     "metadata": {},
     "output_type": "execute_result"
    }
   ],
   "source": [
    "PG['simple_return']"
   ]
  },
  {
   "cell_type": "code",
   "execution_count": 27,
   "id": "61d2e29a",
   "metadata": {},
   "outputs": [
    {
     "data": {
      "text/plain": [
       "<matplotlib.lines.Line2D at 0x1e778454940>"
      ]
     },
     "execution_count": 27,
     "metadata": {},
     "output_type": "execute_result"
    },
    {
     "data": {
      "image/png": "[encoded data removed]",
      "text/plain": [
       "<Figure size 640x480 with 1 Axes>"
      ]
     },
     "metadata": {},
     "output_type": "display_data"
    }
   ],
   "source": [
    "fig,ax = plt.subplots()\n",
    "data_points = ax.plot(PG[\"Date\"],PG['simple_return'])\n",
    "ax.axhline(y = np.average(PG['simple_return']), color = 'r', linestyle = '-') "
   ]
  },
  {
   "cell_type": "code",
   "execution_count": 28,
   "id": "2e36bc6e",
   "metadata": {},
   "outputs": [
    {
     "name": "stdout",
     "output_type": "stream",
     "text": [
      "0.0005135952463907976\n"
     ]
    }
   ],
   "source": [
    "mean_d=np.average(PG['simple_return'])\n",
    "print(mean_d)"
   ]
  },
  {
   "cell_type": "code",
   "execution_count": 36,
   "id": "06d152df",
   "metadata": {},
   "outputs": [
    {
     "data": {
      "text/plain": [
       "0.1283988115976994"
      ]
     },
     "execution_count": 36,
     "metadata": {},
     "output_type": "execute_result"
    }
   ],
   "source": [
    "mean_y = np.average(PG['simple_return'])*250\n",
    "mean_y"
   ]
  },
  {
   "cell_type": "code",
   "execution_count": 37,
   "id": "b91d157f",
   "metadata": {},
   "outputs": [
    {
     "data": {
      "text/plain": [
       "'12.83988115976994 :average percent of return for the portfolio'"
      ]
     },
     "execution_count": 37,
     "metadata": {},
     "output_type": "execute_result"
    }
   ],
   "source": [
    "annual_return = 100 * mean_y\n",
    "str = str(annual_return) + ' :average percent of return for the portfolio'\n",
    "str"
   ]
  },
  {
   "cell_type": "code",
   "execution_count": null,
   "id": "5c17be6c",
   "metadata": {},
   "outputs": [],
   "source": []
  }
 ],
 "metadata": {
  "kernelspec": {
   "display_name": "Python 3 (ipykernel)",
   "language": "python",
   "name": "python3"
  },
  "language_info": {
   "codemirror_mode": {
    "name": "ipython",
    "version": 3
   },
   "file_extension": ".py",
   "mimetype": "text/x-python",
   "name": "python",
   "nbconvert_exporter": "python",
   "pygments_lexer": "ipython3",
   "version": "3.9.13"
  }
 },
 "nbformat": 4,
 "nbformat_minor": 5
}
