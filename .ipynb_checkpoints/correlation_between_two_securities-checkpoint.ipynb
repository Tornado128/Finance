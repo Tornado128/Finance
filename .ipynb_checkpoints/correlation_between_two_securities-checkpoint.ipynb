{
 "cells": [
  {
   "cell_type": "markdown",
   "id": "9d92ffd7",
   "metadata": {},
   "source": [
    "1. The risk of a security is measured by variance and standard deviation. Standard deviation also tells us about the volatility of a security\n",
    "2. In this code, we compare the risks associated with two securities."
   ]
  },
  {
   "cell_type": "code",
   "execution_count": 88,
   "id": "ea7655d7",
   "metadata": {},
   "outputs": [],
   "source": [
    "import pandas as pd\n",
    "import numpy as np\n",
    "from pandas_datareader import data as pdr\n",
    "import yfinance as yfin\n",
    "import matplotlib.pyplot as plt"
   ]
  },
  {
   "cell_type": "code",
   "execution_count": 89,
   "id": "0875dae7",
   "metadata": {},
   "outputs": [
    {
     "name": "stderr",
     "output_type": "stream",
     "text": [
      "[*********************100%%**********************]  1 of 1 completed\n",
      "[*********************100%%**********************]  1 of 1 completed\n"
     ]
    }
   ],
   "source": [
    "tickers = ['BTC-USD','QQQ']\n",
    "yfin.pdr_override() #  you ensure compatibility with the Yahoo Finance API changes and possibly improve the reliability and functionality of data retrieval from Yahoo Finance within your code\n",
    "mydata = pd.DataFrame()\n",
    "for t in tickers:\n",
    "    mydata[t] = pdr.get_data_yahoo(t, start=\"2021-1-1\", end=\"2024-3-23\")['Adj Close']"
   ]
  },
  {
   "cell_type": "code",
   "execution_count": 90,
   "id": "510a9e30",
   "metadata": {},
   "outputs": [
    {
     "data": {
      "text/html": [
       "<div>\n",
       "<style scoped>\n",
       "    .dataframe tbody tr th:only-of-type {\n",
       "        vertical-align: middle;\n",
       "    }\n",
       "\n",
       "    .dataframe tbody tr th {\n",
       "        vertical-align: top;\n",
       "    }\n",
       "\n",
       "    .dataframe thead th {\n",
       "        text-align: right;\n",
       "    }\n",
       "</style>\n",
       "<table border=\"1\" class=\"dataframe\">\n",
       "  <thead>\n",
       "    <tr style=\"text-align: right;\">\n",
       "      <th></th>\n",
       "      <th>BTC-USD</th>\n",
       "      <th>QQQ</th>\n",
       "    </tr>\n",
       "    <tr>\n",
       "      <th>Date</th>\n",
       "      <th></th>\n",
       "      <th></th>\n",
       "    </tr>\n",
       "  </thead>\n",
       "  <tbody>\n",
       "    <tr>\n",
       "      <th>2018-01-01</th>\n",
       "      <td>13657.200195</td>\n",
       "      <td>NaN</td>\n",
       "    </tr>\n",
       "    <tr>\n",
       "      <th>2018-01-02</th>\n",
       "      <td>14982.099609</td>\n",
       "      <td>151.871964</td>\n",
       "    </tr>\n",
       "    <tr>\n",
       "      <th>2018-01-03</th>\n",
       "      <td>15201.000000</td>\n",
       "      <td>153.347641</td>\n",
       "    </tr>\n",
       "    <tr>\n",
       "      <th>2018-01-04</th>\n",
       "      <td>15599.200195</td>\n",
       "      <td>153.615936</td>\n",
       "    </tr>\n",
       "    <tr>\n",
       "      <th>2018-01-05</th>\n",
       "      <td>17429.500000</td>\n",
       "      <td>155.158707</td>\n",
       "    </tr>\n",
       "  </tbody>\n",
       "</table>\n",
       "</div>"
      ],
      "text/plain": [
       "                 BTC-USD         QQQ\n",
       "Date                                \n",
       "2018-01-01  13657.200195         NaN\n",
       "2018-01-02  14982.099609  151.871964\n",
       "2018-01-03  15201.000000  153.347641\n",
       "2018-01-04  15599.200195  153.615936\n",
       "2018-01-05  17429.500000  155.158707"
      ]
     },
     "execution_count": 90,
     "metadata": {},
     "output_type": "execute_result"
    }
   ],
   "source": [
    "mydata.head()"
   ]
  },
  {
   "cell_type": "code",
   "execution_count": 91,
   "id": "82814396",
   "metadata": {},
   "outputs": [
    {
     "data": {
      "text/html": [
       "<div>\n",
       "<style scoped>\n",
       "    .dataframe tbody tr th:only-of-type {\n",
       "        vertical-align: middle;\n",
       "    }\n",
       "\n",
       "    .dataframe tbody tr th {\n",
       "        vertical-align: top;\n",
       "    }\n",
       "\n",
       "    .dataframe thead th {\n",
       "        text-align: right;\n",
       "    }\n",
       "</style>\n",
       "<table border=\"1\" class=\"dataframe\">\n",
       "  <thead>\n",
       "    <tr style=\"text-align: right;\">\n",
       "      <th></th>\n",
       "      <th>BTC-USD</th>\n",
       "      <th>QQQ</th>\n",
       "    </tr>\n",
       "    <tr>\n",
       "      <th>Date</th>\n",
       "      <th></th>\n",
       "      <th></th>\n",
       "    </tr>\n",
       "  </thead>\n",
       "  <tbody>\n",
       "    <tr>\n",
       "      <th>2024-03-18</th>\n",
       "      <td>67548.593750</td>\n",
       "      <td>437.480011</td>\n",
       "    </tr>\n",
       "    <tr>\n",
       "      <th>2024-03-19</th>\n",
       "      <td>61912.773438</td>\n",
       "      <td>438.570007</td>\n",
       "    </tr>\n",
       "    <tr>\n",
       "      <th>2024-03-20</th>\n",
       "      <td>67913.671875</td>\n",
       "      <td>443.769989</td>\n",
       "    </tr>\n",
       "    <tr>\n",
       "      <th>2024-03-21</th>\n",
       "      <td>65491.390625</td>\n",
       "      <td>445.869995</td>\n",
       "    </tr>\n",
       "    <tr>\n",
       "      <th>2024-03-22</th>\n",
       "      <td>63778.761719</td>\n",
       "      <td>446.380005</td>\n",
       "    </tr>\n",
       "  </tbody>\n",
       "</table>\n",
       "</div>"
      ],
      "text/plain": [
       "                 BTC-USD         QQQ\n",
       "Date                                \n",
       "2024-03-18  67548.593750  437.480011\n",
       "2024-03-19  61912.773438  438.570007\n",
       "2024-03-20  67913.671875  443.769989\n",
       "2024-03-21  65491.390625  445.869995\n",
       "2024-03-22  63778.761719  446.380005"
      ]
     },
     "execution_count": 91,
     "metadata": {},
     "output_type": "execute_result"
    }
   ],
   "source": [
    "mydata.tail()"
   ]
  },
  {
   "cell_type": "markdown",
   "id": "440ae0e2",
   "metadata": {},
   "source": []
  },
  {
   "cell_type": "markdown",
   "id": "6768d1ee",
   "metadata": {},
   "source": [
    "Annual return"
   ]
  },
  {
   "cell_type": "code",
   "execution_count": 92,
   "id": "c71975cb",
   "metadata": {},
   "outputs": [
    {
     "data": {
      "text/html": [
       "<div>\n",
       "<style scoped>\n",
       "    .dataframe tbody tr th:only-of-type {\n",
       "        vertical-align: middle;\n",
       "    }\n",
       "\n",
       "    .dataframe tbody tr th {\n",
       "        vertical-align: top;\n",
       "    }\n",
       "\n",
       "    .dataframe thead th {\n",
       "        text-align: right;\n",
       "    }\n",
       "</style>\n",
       "<table border=\"1\" class=\"dataframe\">\n",
       "  <thead>\n",
       "    <tr style=\"text-align: right;\">\n",
       "      <th></th>\n",
       "      <th>BTC-USD</th>\n",
       "      <th>QQQ</th>\n",
       "    </tr>\n",
       "    <tr>\n",
       "      <th>Date</th>\n",
       "      <th></th>\n",
       "      <th></th>\n",
       "    </tr>\n",
       "  </thead>\n",
       "  <tbody>\n",
       "    <tr>\n",
       "      <th>2018-01-01</th>\n",
       "      <td>NaN</td>\n",
       "      <td>NaN</td>\n",
       "    </tr>\n",
       "    <tr>\n",
       "      <th>2018-01-02</th>\n",
       "      <td>24.252764</td>\n",
       "      <td>NaN</td>\n",
       "    </tr>\n",
       "    <tr>\n",
       "      <th>2018-01-03</th>\n",
       "      <td>3.652699</td>\n",
       "      <td>2.429147</td>\n",
       "    </tr>\n",
       "    <tr>\n",
       "      <th>2018-01-04</th>\n",
       "      <td>6.548914</td>\n",
       "      <td>0.437397</td>\n",
       "    </tr>\n",
       "    <tr>\n",
       "      <th>2018-01-05</th>\n",
       "      <td>29.333232</td>\n",
       "      <td>2.510759</td>\n",
       "    </tr>\n",
       "    <tr>\n",
       "      <th>...</th>\n",
       "      <td>...</td>\n",
       "      <td>...</td>\n",
       "    </tr>\n",
       "    <tr>\n",
       "      <th>2024-03-18</th>\n",
       "      <td>-3.078021</td>\n",
       "      <td>NaN</td>\n",
       "    </tr>\n",
       "    <tr>\n",
       "      <th>2024-03-19</th>\n",
       "      <td>-20.858392</td>\n",
       "      <td>0.622884</td>\n",
       "    </tr>\n",
       "    <tr>\n",
       "      <th>2024-03-20</th>\n",
       "      <td>24.231262</td>\n",
       "      <td>2.964169</td>\n",
       "    </tr>\n",
       "    <tr>\n",
       "      <th>2024-03-21</th>\n",
       "      <td>-8.916766</td>\n",
       "      <td>1.183049</td>\n",
       "    </tr>\n",
       "    <tr>\n",
       "      <th>2024-03-22</th>\n",
       "      <td>-6.537611</td>\n",
       "      <td>0.285963</td>\n",
       "    </tr>\n",
       "  </tbody>\n",
       "</table>\n",
       "<p>2273 rows × 2 columns</p>\n",
       "</div>"
      ],
      "text/plain": [
       "              BTC-USD       QQQ\n",
       "Date                           \n",
       "2018-01-01        NaN       NaN\n",
       "2018-01-02  24.252764       NaN\n",
       "2018-01-03   3.652699  2.429147\n",
       "2018-01-04   6.548914  0.437397\n",
       "2018-01-05  29.333232  2.510759\n",
       "...               ...       ...\n",
       "2024-03-18  -3.078021       NaN\n",
       "2024-03-19 -20.858392  0.622884\n",
       "2024-03-20  24.231262  2.964169\n",
       "2024-03-21  -8.916766  1.183049\n",
       "2024-03-22  -6.537611  0.285963\n",
       "\n",
       "[2273 rows x 2 columns]"
      ]
     },
     "execution_count": 92,
     "metadata": {},
     "output_type": "execute_result"
    }
   ],
   "source": [
    "return_data = (mydata/mydata.shift(1) - 1) * 250\n",
    "return_data"
   ]
  },
  {
   "cell_type": "code",
   "execution_count": 93,
   "id": "b60a3334",
   "metadata": {},
   "outputs": [
    {
     "data": {
      "text/html": [
       "<div>\n",
       "<style scoped>\n",
       "    .dataframe tbody tr th:only-of-type {\n",
       "        vertical-align: middle;\n",
       "    }\n",
       "\n",
       "    .dataframe tbody tr th {\n",
       "        vertical-align: top;\n",
       "    }\n",
       "\n",
       "    .dataframe thead th {\n",
       "        text-align: right;\n",
       "    }\n",
       "</style>\n",
       "<table border=\"1\" class=\"dataframe\">\n",
       "  <thead>\n",
       "    <tr style=\"text-align: right;\">\n",
       "      <th></th>\n",
       "      <th>BTC-USD</th>\n",
       "      <th>QQQ</th>\n",
       "    </tr>\n",
       "    <tr>\n",
       "      <th>Date</th>\n",
       "      <th></th>\n",
       "      <th></th>\n",
       "    </tr>\n",
       "  </thead>\n",
       "  <tbody>\n",
       "    <tr>\n",
       "      <th>2018-01-01</th>\n",
       "      <td>0.000000</td>\n",
       "      <td>0.000000</td>\n",
       "    </tr>\n",
       "    <tr>\n",
       "      <th>2018-01-02</th>\n",
       "      <td>24.252764</td>\n",
       "      <td>0.000000</td>\n",
       "    </tr>\n",
       "    <tr>\n",
       "      <th>2018-01-03</th>\n",
       "      <td>3.652699</td>\n",
       "      <td>2.429147</td>\n",
       "    </tr>\n",
       "    <tr>\n",
       "      <th>2018-01-04</th>\n",
       "      <td>6.548914</td>\n",
       "      <td>0.437397</td>\n",
       "    </tr>\n",
       "    <tr>\n",
       "      <th>2018-01-05</th>\n",
       "      <td>29.333232</td>\n",
       "      <td>2.510759</td>\n",
       "    </tr>\n",
       "    <tr>\n",
       "      <th>...</th>\n",
       "      <td>...</td>\n",
       "      <td>...</td>\n",
       "    </tr>\n",
       "    <tr>\n",
       "      <th>2024-03-18</th>\n",
       "      <td>-3.078021</td>\n",
       "      <td>0.000000</td>\n",
       "    </tr>\n",
       "    <tr>\n",
       "      <th>2024-03-19</th>\n",
       "      <td>-20.858392</td>\n",
       "      <td>0.622884</td>\n",
       "    </tr>\n",
       "    <tr>\n",
       "      <th>2024-03-20</th>\n",
       "      <td>24.231262</td>\n",
       "      <td>2.964169</td>\n",
       "    </tr>\n",
       "    <tr>\n",
       "      <th>2024-03-21</th>\n",
       "      <td>-8.916766</td>\n",
       "      <td>1.183049</td>\n",
       "    </tr>\n",
       "    <tr>\n",
       "      <th>2024-03-22</th>\n",
       "      <td>-6.537611</td>\n",
       "      <td>0.285963</td>\n",
       "    </tr>\n",
       "  </tbody>\n",
       "</table>\n",
       "<p>2273 rows × 2 columns</p>\n",
       "</div>"
      ],
      "text/plain": [
       "              BTC-USD       QQQ\n",
       "Date                           \n",
       "2018-01-01   0.000000  0.000000\n",
       "2018-01-02  24.252764  0.000000\n",
       "2018-01-03   3.652699  2.429147\n",
       "2018-01-04   6.548914  0.437397\n",
       "2018-01-05  29.333232  2.510759\n",
       "...               ...       ...\n",
       "2024-03-18  -3.078021  0.000000\n",
       "2024-03-19 -20.858392  0.622884\n",
       "2024-03-20  24.231262  2.964169\n",
       "2024-03-21  -8.916766  1.183049\n",
       "2024-03-22  -6.537611  0.285963\n",
       "\n",
       "[2273 rows x 2 columns]"
      ]
     },
     "execution_count": 93,
     "metadata": {},
     "output_type": "execute_result"
    }
   ],
   "source": [
    "return_data[np.isnan(return_data)] = 0\n",
    "return_data"
   ]
  },
  {
   "cell_type": "code",
   "execution_count": 94,
   "id": "7ccf8fdb",
   "metadata": {},
   "outputs": [
    {
     "name": "stdout",
     "output_type": "stream",
     "text": [
      "averge return on BTC-USD 0.3358040687129417\n",
      "variance on BTC-USD 81.89941751450492\n",
      "averge return on QQQ 0.11331313435630788\n",
      "variance on QQQ 7.899504160581337\n"
     ]
    }
   ],
   "source": [
    "avg_VTI = return_data['%s'%tickers[0]].mean()\n",
    "print('averge return on %s'%tickers[0], avg_VTI)\n",
    "std_VTI = return_data['%s'%tickers[0]].var()\n",
    "print('variance on %s'%tickers[0], std_VTI)\n",
    "avg_QQQ = return_data['%s'%tickers[1]].mean()\n",
    "print('averge return on %s'%tickers[1], avg_QQQ)\n",
    "std_QQQ = return_data['%s'%tickers[1]].var()\n",
    "print('variance on %s'%tickers[1], std_QQQ)"
   ]
  },
  {
   "cell_type": "code",
   "execution_count": 95,
   "id": "d5626d84",
   "metadata": {},
   "outputs": [
    {
     "data": {
      "text/plain": [
       "BTC-USD    0.335804\n",
       "QQQ        0.113313\n",
       "dtype: float64"
      ]
     },
     "execution_count": 95,
     "metadata": {},
     "output_type": "execute_result"
    }
   ],
   "source": [
    "avg = (return_data).mean()\n",
    "avg"
   ]
  },
  {
   "cell_type": "code",
   "execution_count": 96,
   "id": "81c07b11",
   "metadata": {},
   "outputs": [
    {
     "data": {
      "text/plain": [
       "BTC-USD    81.899418\n",
       "QQQ         7.899504\n",
       "dtype: float64"
      ]
     },
     "execution_count": 96,
     "metadata": {},
     "output_type": "execute_result"
    }
   ],
   "source": [
    "std = (return_data).var()\n",
    "std"
   ]
  },
  {
   "cell_type": "markdown",
   "id": "efd3984e",
   "metadata": {},
   "source": [
    "covariance matrix"
   ]
  },
  {
   "cell_type": "code",
   "execution_count": 97,
   "id": "a1a9f4cb",
   "metadata": {},
   "outputs": [
    {
     "data": {
      "text/html": [
       "<div>\n",
       "<style scoped>\n",
       "    .dataframe tbody tr th:only-of-type {\n",
       "        vertical-align: middle;\n",
       "    }\n",
       "\n",
       "    .dataframe tbody tr th {\n",
       "        vertical-align: top;\n",
       "    }\n",
       "\n",
       "    .dataframe thead th {\n",
       "        text-align: right;\n",
       "    }\n",
       "</style>\n",
       "<table border=\"1\" class=\"dataframe\">\n",
       "  <thead>\n",
       "    <tr style=\"text-align: right;\">\n",
       "      <th></th>\n",
       "      <th>BTC-USD</th>\n",
       "      <th>QQQ</th>\n",
       "    </tr>\n",
       "  </thead>\n",
       "  <tbody>\n",
       "    <tr>\n",
       "      <th>BTC-USD</th>\n",
       "      <td>81.899418</td>\n",
       "      <td>6.335123</td>\n",
       "    </tr>\n",
       "    <tr>\n",
       "      <th>QQQ</th>\n",
       "      <td>6.335123</td>\n",
       "      <td>7.899504</td>\n",
       "    </tr>\n",
       "  </tbody>\n",
       "</table>\n",
       "</div>"
      ],
      "text/plain": [
       "           BTC-USD       QQQ\n",
       "BTC-USD  81.899418  6.335123\n",
       "QQQ       6.335123  7.899504"
      ]
     },
     "execution_count": 97,
     "metadata": {},
     "output_type": "execute_result"
    }
   ],
   "source": [
    "return_data.cov()"
   ]
  },
  {
   "cell_type": "code",
   "execution_count": 98,
   "id": "8b100099",
   "metadata": {},
   "outputs": [
    {
     "data": {
      "text/html": [
       "<div>\n",
       "<style scoped>\n",
       "    .dataframe tbody tr th:only-of-type {\n",
       "        vertical-align: middle;\n",
       "    }\n",
       "\n",
       "    .dataframe tbody tr th {\n",
       "        vertical-align: top;\n",
       "    }\n",
       "\n",
       "    .dataframe thead th {\n",
       "        text-align: right;\n",
       "    }\n",
       "</style>\n",
       "<table border=\"1\" class=\"dataframe\">\n",
       "  <thead>\n",
       "    <tr style=\"text-align: right;\">\n",
       "      <th></th>\n",
       "      <th>BTC-USD</th>\n",
       "      <th>QQQ</th>\n",
       "    </tr>\n",
       "  </thead>\n",
       "  <tbody>\n",
       "    <tr>\n",
       "      <th>BTC-USD</th>\n",
       "      <td>1.000000</td>\n",
       "      <td>0.249066</td>\n",
       "    </tr>\n",
       "    <tr>\n",
       "      <th>QQQ</th>\n",
       "      <td>0.249066</td>\n",
       "      <td>1.000000</td>\n",
       "    </tr>\n",
       "  </tbody>\n",
       "</table>\n",
       "</div>"
      ],
      "text/plain": [
       "          BTC-USD       QQQ\n",
       "BTC-USD  1.000000  0.249066\n",
       "QQQ      0.249066  1.000000"
      ]
     },
     "execution_count": 98,
     "metadata": {},
     "output_type": "execute_result"
    }
   ],
   "source": [
    "return_data.corr()"
   ]
  },
  {
   "cell_type": "code",
   "execution_count": null,
   "id": "1cc4e074",
   "metadata": {},
   "outputs": [],
   "source": []
  },
  {
   "cell_type": "code",
   "execution_count": null,
   "id": "12fb141f",
   "metadata": {},
   "outputs": [],
   "source": []
  },
  {
   "cell_type": "code",
   "execution_count": null,
   "id": "849cd566",
   "metadata": {},
   "outputs": [],
   "source": []
  }
 ],
 "metadata": {
  "kernelspec": {
   "display_name": "Python 3 (ipykernel)",
   "language": "python",
   "name": "python3"
  },
  "language_info": {
   "codemirror_mode": {
    "name": "ipython",
    "version": 3
   },
   "file_extension": ".py",
   "mimetype": "text/x-python",
   "name": "python",
   "nbconvert_exporter": "python",
   "pygments_lexer": "ipython3",
   "version": "3.9.13"
  }
 },
 "nbformat": 4,
 "nbformat_minor": 5
}
