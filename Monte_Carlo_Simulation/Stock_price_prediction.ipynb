{
 "cells": [
  {
   "cell_type": "markdown",
   "id": "2a1ca542",
   "metadata": {},
   "source": [
    "$$\n",
    "    price_{today} = price_{yesterday}  e^{(u-1/2 \\sigma^2)+\\sigma[rnd(0:1)]}\n",
    "$$"
   ]
  },
  {
   "cell_type": "code",
   "execution_count": 1,
   "id": "4aa8525e",
   "metadata": {},
   "outputs": [
    {
     "name": "stderr",
     "output_type": "stream",
     "text": [
      "C:\\Users\\yaser\\anaconda3\\lib\\site-packages\\scipy\\__init__.py:155: UserWarning: A NumPy version >=1.18.5 and <1.25.0 is required for this version of SciPy (detected version 1.26.4\n",
      "  warnings.warn(f\"A NumPy version >={np_minversion} and <{np_maxversion}\"\n"
     ]
    }
   ],
   "source": [
    "import numpy as np\n",
    "import pandas as pd\n",
    "import matplotlib.pyplot as plt\n",
    "import yfinance as yfin\n",
    "from scipy.stats import norm\n",
    "from pandas_datareader import data as pdr"
   ]
  },
  {
   "cell_type": "code",
   "execution_count": 2,
   "id": "b22ae266",
   "metadata": {},
   "outputs": [
    {
     "name": "stderr",
     "output_type": "stream",
     "text": [
      "[*********************100%%**********************]  1 of 1 completed\n"
     ]
    }
   ],
   "source": [
    "tickers = ['^GSPC']\n",
    "yfin.pdr_override() #  you ensure compatibility with the Yahoo Finance API changes and possibly improve the reliability and functionality of data retrieval from Yahoo Finance within your code\n",
    "data = pd.DataFrame()\n",
    "for t in tickers:\n",
    "    data[t] = pdr.get_data_yahoo(t, start=\"1961-3-30\", end=\"2024-3-30\")['Adj Close']"
   ]
  },
  {
   "cell_type": "markdown",
   "id": "93733b8f",
   "metadata": {},
   "source": [
    "**log daily return**"
   ]
  },
  {
   "cell_type": "code",
   "execution_count": 3,
   "id": "cd84db66",
   "metadata": {},
   "outputs": [
    {
     "data": {
      "text/html": [
       "<div>\n",
       "<style scoped>\n",
       "    .dataframe tbody tr th:only-of-type {\n",
       "        vertical-align: middle;\n",
       "    }\n",
       "\n",
       "    .dataframe tbody tr th {\n",
       "        vertical-align: top;\n",
       "    }\n",
       "\n",
       "    .dataframe thead th {\n",
       "        text-align: right;\n",
       "    }\n",
       "</style>\n",
       "<table border=\"1\" class=\"dataframe\">\n",
       "  <thead>\n",
       "    <tr style=\"text-align: right;\">\n",
       "      <th></th>\n",
       "      <th>^GSPC</th>\n",
       "    </tr>\n",
       "    <tr>\n",
       "      <th>Date</th>\n",
       "      <th></th>\n",
       "    </tr>\n",
       "  </thead>\n",
       "  <tbody>\n",
       "    <tr>\n",
       "      <th>1961-03-30</th>\n",
       "      <td>NaN</td>\n",
       "    </tr>\n",
       "    <tr>\n",
       "      <th>1961-04-03</th>\n",
       "      <td>0.008266</td>\n",
       "    </tr>\n",
       "    <tr>\n",
       "      <th>1961-04-04</th>\n",
       "      <td>0.000914</td>\n",
       "    </tr>\n",
       "    <tr>\n",
       "      <th>1961-04-05</th>\n",
       "      <td>-0.003051</td>\n",
       "    </tr>\n",
       "    <tr>\n",
       "      <th>1961-04-06</th>\n",
       "      <td>0.002289</td>\n",
       "    </tr>\n",
       "  </tbody>\n",
       "</table>\n",
       "</div>"
      ],
      "text/plain": [
       "               ^GSPC\n",
       "Date                \n",
       "1961-03-30       NaN\n",
       "1961-04-03  0.008266\n",
       "1961-04-04  0.000914\n",
       "1961-04-05 -0.003051\n",
       "1961-04-06  0.002289"
      ]
     },
     "execution_count": 3,
     "metadata": {},
     "output_type": "execute_result"
    }
   ],
   "source": [
    "log_return = np.log(data/data.shift(1))\n",
    "log_return.head()"
   ]
  },
  {
   "cell_type": "code",
   "execution_count": 4,
   "id": "6b26b9e3",
   "metadata": {},
   "outputs": [
    {
     "data": {
      "text/html": [
       "<div>\n",
       "<style scoped>\n",
       "    .dataframe tbody tr th:only-of-type {\n",
       "        vertical-align: middle;\n",
       "    }\n",
       "\n",
       "    .dataframe tbody tr th {\n",
       "        vertical-align: top;\n",
       "    }\n",
       "\n",
       "    .dataframe thead th {\n",
       "        text-align: right;\n",
       "    }\n",
       "</style>\n",
       "<table border=\"1\" class=\"dataframe\">\n",
       "  <thead>\n",
       "    <tr style=\"text-align: right;\">\n",
       "      <th></th>\n",
       "      <th>^GSPC</th>\n",
       "    </tr>\n",
       "    <tr>\n",
       "      <th>Date</th>\n",
       "      <th></th>\n",
       "    </tr>\n",
       "  </thead>\n",
       "  <tbody>\n",
       "    <tr>\n",
       "      <th>1961-03-30</th>\n",
       "      <td>0.000000</td>\n",
       "    </tr>\n",
       "    <tr>\n",
       "      <th>1961-04-03</th>\n",
       "      <td>0.008266</td>\n",
       "    </tr>\n",
       "    <tr>\n",
       "      <th>1961-04-04</th>\n",
       "      <td>0.000914</td>\n",
       "    </tr>\n",
       "    <tr>\n",
       "      <th>1961-04-05</th>\n",
       "      <td>-0.003051</td>\n",
       "    </tr>\n",
       "    <tr>\n",
       "      <th>1961-04-06</th>\n",
       "      <td>0.002289</td>\n",
       "    </tr>\n",
       "  </tbody>\n",
       "</table>\n",
       "</div>"
      ],
      "text/plain": [
       "               ^GSPC\n",
       "Date                \n",
       "1961-03-30  0.000000\n",
       "1961-04-03  0.008266\n",
       "1961-04-04  0.000914\n",
       "1961-04-05 -0.003051\n",
       "1961-04-06  0.002289"
      ]
     },
     "execution_count": 4,
     "metadata": {},
     "output_type": "execute_result"
    }
   ],
   "source": [
    "log_return[np.isnan(log_return)] = 0\n",
    "log_return.head()"
   ]
  },
  {
   "cell_type": "code",
   "execution_count": 5,
   "id": "e2e15e67",
   "metadata": {},
   "outputs": [
    {
     "data": {
      "text/plain": [
       "[<matplotlib.lines.Line2D at 0x1ddff1ae4c0>]"
      ]
     },
     "execution_count": 5,
     "metadata": {},
     "output_type": "execute_result"
    },
    {
     "data": {
      "image/png": "[encoded data removed]",
      "text/plain": [
       "<Figure size 640x480 with 1 Axes>"
      ]
     },
     "metadata": {},
     "output_type": "display_data"
    }
   ],
   "source": [
    "plt.plot(log_return)"
   ]
  },
  {
   "cell_type": "code",
   "execution_count": 6,
   "id": "506f734c",
   "metadata": {},
   "outputs": [
    {
     "data": {
      "text/plain": [
       "^GSPC    0.000277\n",
       "dtype: float64"
      ]
     },
     "execution_count": 6,
     "metadata": {},
     "output_type": "execute_result"
    }
   ],
   "source": [
    "## mean\n",
    "u = log_return.mean()\n",
    "u"
   ]
  },
  {
   "cell_type": "code",
   "execution_count": 7,
   "id": "3cfb442d",
   "metadata": {},
   "outputs": [
    {
     "data": {
      "text/plain": [
       "^GSPC    0.000108\n",
       "dtype: float64"
      ]
     },
     "execution_count": 7,
     "metadata": {},
     "output_type": "execute_result"
    }
   ],
   "source": [
    "## variance\n",
    "var = log_return.var()\n",
    "var"
   ]
  },
  {
   "cell_type": "code",
   "execution_count": 8,
   "id": "d318184e",
   "metadata": {},
   "outputs": [
    {
     "data": {
      "text/plain": [
       "^GSPC    0.01038\n",
       "dtype: float64"
      ]
     },
     "execution_count": 8,
     "metadata": {},
     "output_type": "execute_result"
    }
   ],
   "source": [
    "## standard deviation\n",
    "stdev = log_return.std()\n",
    "stdev"
   ]
  },
  {
   "cell_type": "markdown",
   "id": "69bffcf1",
   "metadata": {},
   "source": [
    "**drift = u - 1/2 var**"
   ]
  },
  {
   "cell_type": "code",
   "execution_count": 9,
   "id": "d12e972a",
   "metadata": {},
   "outputs": [
    {
     "data": {
      "text/plain": [
       "^GSPC    0.000223\n",
       "dtype: float64"
      ]
     },
     "execution_count": 9,
     "metadata": {},
     "output_type": "execute_result"
    }
   ],
   "source": [
    "drift = u - 1/2 * var\n",
    "drift"
   ]
  },
  {
   "cell_type": "code",
   "execution_count": 10,
   "id": "370b12dc",
   "metadata": {},
   "outputs": [
    {
     "data": {
      "text/plain": [
       "1.6448536269514722"
      ]
     },
     "execution_count": 10,
     "metadata": {},
     "output_type": "execute_result"
    }
   ],
   "source": [
    "# z value at a given probability\n",
    "norm.ppf(0.95)"
   ]
  },
  {
   "cell_type": "markdown",
   "id": "f59fb442",
   "metadata": {},
   "source": [
    "**Example to see Z value (multi-dimensional)**"
   ]
  },
  {
   "cell_type": "code",
   "execution_count": 11,
   "id": "2768f379",
   "metadata": {},
   "outputs": [
    {
     "data": {
      "text/plain": [
       "array([[0.849295  , 0.00449099],\n",
       "       [0.07442545, 0.73186858],\n",
       "       [0.62010413, 0.99884144],\n",
       "       [0.13472991, 0.19458215],\n",
       "       [0.01209832, 0.71639821],\n",
       "       [0.51101055, 0.64463351],\n",
       "       [0.44328592, 0.27890738],\n",
       "       [0.64023595, 0.82162449],\n",
       "       [0.75136716, 0.79514269],\n",
       "       [0.20533362, 0.93013159]])"
      ]
     },
     "execution_count": 11,
     "metadata": {},
     "output_type": "execute_result"
    }
   ],
   "source": [
    "x = np.random.rand(10,2)\n",
    "x"
   ]
  },
  {
   "cell_type": "code",
   "execution_count": 12,
   "id": "91460d97",
   "metadata": {},
   "outputs": [
    {
     "data": {
      "text/plain": [
       "array([[ 1.03341442, -2.61273939],\n",
       "       [-1.4436022 ,  0.61847415],\n",
       "       [ 0.30575427,  3.04625295],\n",
       "       [-1.10430739, -0.86113392],\n",
       "       [-2.25399265,  0.57217476],\n",
       "       [ 0.02760285,  0.37087186],\n",
       "       [-0.14264338, -0.58609041],\n",
       "       [ 0.35908955,  0.92157363],\n",
       "       [ 0.6787983 ,  0.82439596],\n",
       "       [-0.82272001,  1.47677179]])"
      ]
     },
     "execution_count": 12,
     "metadata": {},
     "output_type": "execute_result"
    }
   ],
   "source": [
    "Z = norm.ppf(x)\n",
    "Z"
   ]
  },
  {
   "cell_type": "code",
   "execution_count": 13,
   "id": "9063dc79",
   "metadata": {},
   "outputs": [],
   "source": [
    "t_intervals = 1000 # forcast the price for the upcoming 1000 days \n",
    "iterations = 10 # 10 future stock predictions"
   ]
  },
  {
   "cell_type": "markdown",
   "id": "811dbf2b",
   "metadata": {},
   "source": [
    "$$\n",
    "    returns_{daily} = e^r; r = drift + volatility\n",
    "$$"
   ]
  },
  {
   "cell_type": "code",
   "execution_count": 14,
   "id": "3be01631",
   "metadata": {},
   "outputs": [
    {
     "data": {
      "text/plain": [
       "(1000, 10)"
      ]
     },
     "execution_count": 14,
     "metadata": {},
     "output_type": "execute_result"
    }
   ],
   "source": [
    "daily_returns = np.exp(drift.values + stdev.values * norm.ppf(np.random.rand(t_intervals, iterations)))\n",
    "np.shape(daily_returns)"
   ]
  }
 ],
 "metadata": {
  "kernelspec": {
   "display_name": "Python 3 (ipykernel)",
   "language": "python",
   "name": "python3"
  },
  "language_info": {
   "codemirror_mode": {
    "name": "ipython",
    "version": 3
   },
   "file_extension": ".py",
   "mimetype": "text/x-python",
   "name": "python",
   "nbconvert_exporter": "python",
   "pygments_lexer": "ipython3",
   "version": "3.9.13"
  }
 },
 "nbformat": 4,
 "nbformat_minor": 5
}
