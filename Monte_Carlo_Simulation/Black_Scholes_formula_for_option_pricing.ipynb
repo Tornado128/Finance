{
 "cells": [
  {
   "cell_type": "markdown",
   "id": "34b5a21d",
   "metadata": {},
   "source": [
    "Black Scholes formula is valid for Europian option (can be exercied at the maturity date only):\n",
    "    \n",
    "1. The Black-Scholes model requires five input variables: the strike price of an option, the current stock price, the time to expiration, the risk-free rate, and the volatility. The higher the volatility is, the better!\n",
    "2. Though usually accurate, the Black-Scholes model makes certain assumptions that can lead to predictions that deviate from the real-world results."
   ]
  },
  {
   "cell_type": "markdown",
   "id": "7729bcec",
   "metadata": {},
   "source": [
    "$$\n",
    "    C = SN(d_1) - K \\exp(-rt) N(d_2) \\\\ d_1 = \\frac{ln(\\frac{S}{K}) + (r + \\frac{\\sigma^2}{2}) t}{S \\sqrt t} \\\\ \n",
    "    d_2 = \\frac{ln(\\frac{S}{K}) + (r -\\frac{\\sigma^2}{2}) t}{S \\sqrt t}\n",
    "$$"
   ]
  },
  {
   "cell_type": "markdown",
   "id": "0161cb50",
   "metadata": {},
   "source": [
    "C: call option price\n",
    "<br>\n",
    "S: Current stock price\n",
    "<br>\n",
    "K: Strike price\n",
    "<br>\n",
    "r: risk-free interest rate\n",
    "<br>\n",
    "t: time to maturity\n",
    "<br>\n",
    "N: Cumulative normal distribution"
   ]
  },
  {
   "cell_type": "code",
   "execution_count": 1,
   "id": "4aa8525e",
   "metadata": {},
   "outputs": [
    {
     "name": "stderr",
     "output_type": "stream",
     "text": [
      "C:\\Users\\yaser\\anaconda3\\lib\\site-packages\\scipy\\__init__.py:155: UserWarning: A NumPy version >=1.18.5 and <1.25.0 is required for this version of SciPy (detected version 1.26.4\n",
      "  warnings.warn(f\"A NumPy version >={np_minversion} and <{np_maxversion}\"\n"
     ]
    }
   ],
   "source": [
    "import numpy as np\n",
    "import pandas as pd\n",
    "import yfinance as yfin\n",
    "from scipy.stats import norm\n",
    "from pandas_datareader import data as pdr"
   ]
  },
  {
   "cell_type": "code",
   "execution_count": 2,
   "id": "b22ae266",
   "metadata": {},
   "outputs": [],
   "source": [
    "def d1(S, K, r, stdev, T):\n",
    "    return ( np.log(S/K) + (r + stdev**2 / 2) * T ) / (stdev * np.sqrt(T))\n",
    "def d2(S, K, r, stdev, T):\n",
    "    return ( np.log(S/K) + (r - stdev**2 / 2) * T ) / (stdev * np.sqrt(T))"
   ]
  },
  {
   "cell_type": "code",
   "execution_count": 3,
   "id": "cd84db66",
   "metadata": {},
   "outputs": [],
   "source": [
    "def BSM(S,K,r,stdev,T):\n",
    "    return (S * norm.cdf(d1(S,K,r,stdev,T))) - (K * np.exp(-r * T) * norm.cdf(d2(S, K, r, stdev, T)))"
   ]
  },
  {
   "cell_type": "code",
   "execution_count": 4,
   "id": "6b26b9e3",
   "metadata": {},
   "outputs": [
    {
     "name": "stderr",
     "output_type": "stream",
     "text": [
      "[*********************100%%**********************]  1 of 1 completed\n"
     ]
    }
   ],
   "source": [
    "tickers = ['VTI']\n",
    "yfin.pdr_override() #  you ensure compatibility with the Yahoo Finance API changes and possibly improve the reliability and functionality of data retrieval from Yahoo Finance within your code\n",
    "data = pd.DataFrame()\n",
    "for t in tickers:\n",
    "    data[t] = pdr.get_data_yahoo(t, start=\"2003-3-30\", end=\"2024-3-30\")['Adj Close']"
   ]
  },
  {
   "cell_type": "code",
   "execution_count": 5,
   "id": "e2e15e67",
   "metadata": {},
   "outputs": [
    {
     "data": {
      "text/plain": [
       "VTI    259.899994\n",
       "Name: 2024-03-28 00:00:00, dtype: float64"
      ]
     },
     "execution_count": 5,
     "metadata": {},
     "output_type": "execute_result"
    }
   ],
   "source": [
    "# stock price in the last day\n",
    "S = data.iloc[-1]\n",
    "S"
   ]
  },
  {
   "cell_type": "code",
   "execution_count": 6,
   "id": "506f734c",
   "metadata": {},
   "outputs": [
    {
     "data": {
      "text/html": [
       "<div>\n",
       "<style scoped>\n",
       "    .dataframe tbody tr th:only-of-type {\n",
       "        vertical-align: middle;\n",
       "    }\n",
       "\n",
       "    .dataframe tbody tr th {\n",
       "        vertical-align: top;\n",
       "    }\n",
       "\n",
       "    .dataframe thead th {\n",
       "        text-align: right;\n",
       "    }\n",
       "</style>\n",
       "<table border=\"1\" class=\"dataframe\">\n",
       "  <thead>\n",
       "    <tr style=\"text-align: right;\">\n",
       "      <th></th>\n",
       "      <th>VTI</th>\n",
       "    </tr>\n",
       "    <tr>\n",
       "      <th>Date</th>\n",
       "      <th></th>\n",
       "    </tr>\n",
       "  </thead>\n",
       "  <tbody>\n",
       "    <tr>\n",
       "      <th>2003-03-31</th>\n",
       "      <td>NaN</td>\n",
       "    </tr>\n",
       "    <tr>\n",
       "      <th>2003-04-01</th>\n",
       "      <td>0.014380</td>\n",
       "    </tr>\n",
       "    <tr>\n",
       "      <th>2003-04-02</th>\n",
       "      <td>0.023678</td>\n",
       "    </tr>\n",
       "    <tr>\n",
       "      <th>2003-04-03</th>\n",
       "      <td>-0.005837</td>\n",
       "    </tr>\n",
       "    <tr>\n",
       "      <th>2003-04-04</th>\n",
       "      <td>0.003530</td>\n",
       "    </tr>\n",
       "  </tbody>\n",
       "</table>\n",
       "</div>"
      ],
      "text/plain": [
       "                 VTI\n",
       "Date                \n",
       "2003-03-31       NaN\n",
       "2003-04-01  0.014380\n",
       "2003-04-02  0.023678\n",
       "2003-04-03 -0.005837\n",
       "2003-04-04  0.003530"
      ]
     },
     "execution_count": 6,
     "metadata": {},
     "output_type": "execute_result"
    }
   ],
   "source": [
    "log_returns = np.log(data/data.shift(1))\n",
    "log_returns.head()"
   ]
  },
  {
   "cell_type": "code",
   "execution_count": 7,
   "id": "3cfb442d",
   "metadata": {},
   "outputs": [
    {
     "data": {
      "text/html": [
       "<div>\n",
       "<style scoped>\n",
       "    .dataframe tbody tr th:only-of-type {\n",
       "        vertical-align: middle;\n",
       "    }\n",
       "\n",
       "    .dataframe tbody tr th {\n",
       "        vertical-align: top;\n",
       "    }\n",
       "\n",
       "    .dataframe thead th {\n",
       "        text-align: right;\n",
       "    }\n",
       "</style>\n",
       "<table border=\"1\" class=\"dataframe\">\n",
       "  <thead>\n",
       "    <tr style=\"text-align: right;\">\n",
       "      <th></th>\n",
       "      <th>VTI</th>\n",
       "    </tr>\n",
       "    <tr>\n",
       "      <th>Date</th>\n",
       "      <th></th>\n",
       "    </tr>\n",
       "  </thead>\n",
       "  <tbody>\n",
       "    <tr>\n",
       "      <th>2003-03-31</th>\n",
       "      <td>0.000000</td>\n",
       "    </tr>\n",
       "    <tr>\n",
       "      <th>2003-04-01</th>\n",
       "      <td>0.014380</td>\n",
       "    </tr>\n",
       "    <tr>\n",
       "      <th>2003-04-02</th>\n",
       "      <td>0.023678</td>\n",
       "    </tr>\n",
       "    <tr>\n",
       "      <th>2003-04-03</th>\n",
       "      <td>-0.005837</td>\n",
       "    </tr>\n",
       "    <tr>\n",
       "      <th>2003-04-04</th>\n",
       "      <td>0.003530</td>\n",
       "    </tr>\n",
       "  </tbody>\n",
       "</table>\n",
       "</div>"
      ],
      "text/plain": [
       "                 VTI\n",
       "Date                \n",
       "2003-03-31  0.000000\n",
       "2003-04-01  0.014380\n",
       "2003-04-02  0.023678\n",
       "2003-04-03 -0.005837\n",
       "2003-04-04  0.003530"
      ]
     },
     "execution_count": 7,
     "metadata": {},
     "output_type": "execute_result"
    }
   ],
   "source": [
    "log_returns[np.isnan(log_returns)] = 0\n",
    "log_returns.head()"
   ]
  },
  {
   "cell_type": "code",
   "execution_count": 8,
   "id": "d318184e",
   "metadata": {},
   "outputs": [
    {
     "data": {
      "text/plain": [
       "VTI    0.189016\n",
       "dtype: float64"
      ]
     },
     "execution_count": 8,
     "metadata": {},
     "output_type": "execute_result"
    }
   ],
   "source": [
    "# annual standard deviation\n",
    "stdev = log_returns.std() * 250 ** 0.5\n",
    "stdev"
   ]
  },
  {
   "cell_type": "code",
   "execution_count": 9,
   "id": "fac70e58",
   "metadata": {},
   "outputs": [],
   "source": [
    "r = 0.043\n",
    "K = S * 1.1\n",
    "T = 1"
   ]
  },
  {
   "cell_type": "code",
   "execution_count": 10,
   "id": "d13a1edd",
   "metadata": {},
   "outputs": [
    {
     "data": {
      "text/plain": [
       "VTI    13.877983\n",
       "Name: 2024-03-28 00:00:00, dtype: float64"
      ]
     },
     "execution_count": 10,
     "metadata": {},
     "output_type": "execute_result"
    }
   ],
   "source": [
    "BSM(S, K, r, stdev, T)"
   ]
  }
 ],
 "metadata": {
  "kernelspec": {
   "display_name": "Python 3 (ipykernel)",
   "language": "python",
   "name": "python3"
  },
  "language_info": {
   "codemirror_mode": {
    "name": "ipython",
    "version": 3
   },
   "file_extension": ".py",
   "mimetype": "text/x-python",
   "name": "python",
   "nbconvert_exporter": "python",
   "pygments_lexer": "ipython3",
   "version": "3.9.13"
  }
 },
 "nbformat": 4,
 "nbformat_minor": 5
}
