{
 "cells": [
  {
   "cell_type": "markdown",
   "id": "6bec7df4",
   "metadata": {},
   "source": [
    "1. The risk of a security is measured by variance and standard deviation. Standard deviation also tells us about the volatility of a security\n",
    "2. In this code, we compare the risks associated with two securities."
   ]
  },
  {
   "cell_type": "code",
   "execution_count": 1,
   "id": "afc0ba5f",
   "metadata": {},
   "outputs": [],
   "source": [
    "import pandas as pd\n",
    "import numpy as np\n",
    "from pandas_datareader import data as pdr\n",
    "import yfinance as yfin\n",
    "import matplotlib.pyplot as plt"
   ]
  },
  {
   "cell_type": "code",
   "execution_count": 2,
   "id": "b3112cfe",
   "metadata": {},
   "outputs": [
    {
     "name": "stderr",
     "output_type": "stream",
     "text": [
      "[*********************100%%**********************]  1 of 1 completed\n",
      "[*********************100%%**********************]  1 of 1 completed\n"
     ]
    }
   ],
   "source": [
    "tickers = ['VTI','QQQ']\n",
    "yfin.pdr_override() #  you ensure compatibility with the Yahoo Finance API changes and possibly improve the reliability and functionality of data retrieval from Yahoo Finance within your code\n",
    "mydata = pd.DataFrame()\n",
    "for t in tickers:\n",
    "    mydata[t] = pdr.get_data_yahoo(t, start=\"2021-1-6\", end=\"2024-3-23\")['Adj Close']"
   ]
  },
  {
   "cell_type": "code",
   "execution_count": 3,
   "id": "238446da",
   "metadata": {},
   "outputs": [
    {
     "data": {
      "text/html": [
       "<div>\n",
       "<style scoped>\n",
       "    .dataframe tbody tr th:only-of-type {\n",
       "        vertical-align: middle;\n",
       "    }\n",
       "\n",
       "    .dataframe tbody tr th {\n",
       "        vertical-align: top;\n",
       "    }\n",
       "\n",
       "    .dataframe thead th {\n",
       "        text-align: right;\n",
       "    }\n",
       "</style>\n",
       "<table border=\"1\" class=\"dataframe\">\n",
       "  <thead>\n",
       "    <tr style=\"text-align: right;\">\n",
       "      <th></th>\n",
       "      <th>VTI</th>\n",
       "      <th>QQQ</th>\n",
       "    </tr>\n",
       "    <tr>\n",
       "      <th>Date</th>\n",
       "      <th></th>\n",
       "      <th></th>\n",
       "    </tr>\n",
       "  </thead>\n",
       "  <tbody>\n",
       "    <tr>\n",
       "      <th>2021-01-06</th>\n",
       "      <td>186.567352</td>\n",
       "      <td>301.343109</td>\n",
       "    </tr>\n",
       "    <tr>\n",
       "      <th>2021-01-07</th>\n",
       "      <td>189.559555</td>\n",
       "      <td>308.633270</td>\n",
       "    </tr>\n",
       "    <tr>\n",
       "      <th>2021-01-08</th>\n",
       "      <td>190.477264</td>\n",
       "      <td>312.601654</td>\n",
       "    </tr>\n",
       "    <tr>\n",
       "      <th>2021-01-11</th>\n",
       "      <td>189.339661</td>\n",
       "      <td>308.084534</td>\n",
       "    </tr>\n",
       "    <tr>\n",
       "      <th>2021-01-12</th>\n",
       "      <td>190.008835</td>\n",
       "      <td>307.594543</td>\n",
       "    </tr>\n",
       "  </tbody>\n",
       "</table>\n",
       "</div>"
      ],
      "text/plain": [
       "                   VTI         QQQ\n",
       "Date                              \n",
       "2021-01-06  186.567352  301.343109\n",
       "2021-01-07  189.559555  308.633270\n",
       "2021-01-08  190.477264  312.601654\n",
       "2021-01-11  189.339661  308.084534\n",
       "2021-01-12  190.008835  307.594543"
      ]
     },
     "execution_count": 3,
     "metadata": {},
     "output_type": "execute_result"
    }
   ],
   "source": [
    "mydata.head()"
   ]
  },
  {
   "cell_type": "code",
   "execution_count": 4,
   "id": "ec9ba70e",
   "metadata": {},
   "outputs": [
    {
     "data": {
      "text/html": [
       "<div>\n",
       "<style scoped>\n",
       "    .dataframe tbody tr th:only-of-type {\n",
       "        vertical-align: middle;\n",
       "    }\n",
       "\n",
       "    .dataframe tbody tr th {\n",
       "        vertical-align: top;\n",
       "    }\n",
       "\n",
       "    .dataframe thead th {\n",
       "        text-align: right;\n",
       "    }\n",
       "</style>\n",
       "<table border=\"1\" class=\"dataframe\">\n",
       "  <thead>\n",
       "    <tr style=\"text-align: right;\">\n",
       "      <th></th>\n",
       "      <th>VTI</th>\n",
       "      <th>QQQ</th>\n",
       "    </tr>\n",
       "    <tr>\n",
       "      <th>Date</th>\n",
       "      <th></th>\n",
       "      <th></th>\n",
       "    </tr>\n",
       "  </thead>\n",
       "  <tbody>\n",
       "    <tr>\n",
       "      <th>2024-03-18</th>\n",
       "      <td>255.000000</td>\n",
       "      <td>437.480011</td>\n",
       "    </tr>\n",
       "    <tr>\n",
       "      <th>2024-03-19</th>\n",
       "      <td>256.470001</td>\n",
       "      <td>438.570007</td>\n",
       "    </tr>\n",
       "    <tr>\n",
       "      <th>2024-03-20</th>\n",
       "      <td>259.070007</td>\n",
       "      <td>443.769989</td>\n",
       "    </tr>\n",
       "    <tr>\n",
       "      <th>2024-03-21</th>\n",
       "      <td>260.140015</td>\n",
       "      <td>445.869995</td>\n",
       "    </tr>\n",
       "    <tr>\n",
       "      <th>2024-03-22</th>\n",
       "      <td>258.500000</td>\n",
       "      <td>446.380005</td>\n",
       "    </tr>\n",
       "  </tbody>\n",
       "</table>\n",
       "</div>"
      ],
      "text/plain": [
       "                   VTI         QQQ\n",
       "Date                              \n",
       "2024-03-18  255.000000  437.480011\n",
       "2024-03-19  256.470001  438.570007\n",
       "2024-03-20  259.070007  443.769989\n",
       "2024-03-21  260.140015  445.869995\n",
       "2024-03-22  258.500000  446.380005"
      ]
     },
     "execution_count": 4,
     "metadata": {},
     "output_type": "execute_result"
    }
   ],
   "source": [
    "mydata.tail()"
   ]
  },
  {
   "cell_type": "markdown",
   "id": "548018b5",
   "metadata": {},
   "source": []
  },
  {
   "cell_type": "markdown",
   "id": "098027a1",
   "metadata": {},
   "source": [
    "Annual return"
   ]
  },
  {
   "cell_type": "code",
   "execution_count": 9,
   "id": "3981ff72",
   "metadata": {},
   "outputs": [
    {
     "data": {
      "text/html": [
       "<div>\n",
       "<style scoped>\n",
       "    .dataframe tbody tr th:only-of-type {\n",
       "        vertical-align: middle;\n",
       "    }\n",
       "\n",
       "    .dataframe tbody tr th {\n",
       "        vertical-align: top;\n",
       "    }\n",
       "\n",
       "    .dataframe thead th {\n",
       "        text-align: right;\n",
       "    }\n",
       "</style>\n",
       "<table border=\"1\" class=\"dataframe\">\n",
       "  <thead>\n",
       "    <tr style=\"text-align: right;\">\n",
       "      <th></th>\n",
       "      <th>VTI</th>\n",
       "      <th>QQQ</th>\n",
       "    </tr>\n",
       "    <tr>\n",
       "      <th>Date</th>\n",
       "      <th></th>\n",
       "      <th></th>\n",
       "    </tr>\n",
       "  </thead>\n",
       "  <tbody>\n",
       "    <tr>\n",
       "      <th>2021-01-06</th>\n",
       "      <td>NaN</td>\n",
       "      <td>NaN</td>\n",
       "    </tr>\n",
       "    <tr>\n",
       "      <th>2021-01-07</th>\n",
       "      <td>0.016038</td>\n",
       "      <td>0.024192</td>\n",
       "    </tr>\n",
       "    <tr>\n",
       "      <th>2021-01-08</th>\n",
       "      <td>0.004841</td>\n",
       "      <td>0.012858</td>\n",
       "    </tr>\n",
       "    <tr>\n",
       "      <th>2021-01-11</th>\n",
       "      <td>-0.005972</td>\n",
       "      <td>-0.014450</td>\n",
       "    </tr>\n",
       "    <tr>\n",
       "      <th>2021-01-12</th>\n",
       "      <td>0.003534</td>\n",
       "      <td>-0.001590</td>\n",
       "    </tr>\n",
       "    <tr>\n",
       "      <th>...</th>\n",
       "      <td>...</td>\n",
       "      <td>...</td>\n",
       "    </tr>\n",
       "    <tr>\n",
       "      <th>2024-03-18</th>\n",
       "      <td>0.005085</td>\n",
       "      <td>0.009537</td>\n",
       "    </tr>\n",
       "    <tr>\n",
       "      <th>2024-03-19</th>\n",
       "      <td>0.005765</td>\n",
       "      <td>0.002492</td>\n",
       "    </tr>\n",
       "    <tr>\n",
       "      <th>2024-03-20</th>\n",
       "      <td>0.010138</td>\n",
       "      <td>0.011857</td>\n",
       "    </tr>\n",
       "    <tr>\n",
       "      <th>2024-03-21</th>\n",
       "      <td>0.004130</td>\n",
       "      <td>0.004732</td>\n",
       "    </tr>\n",
       "    <tr>\n",
       "      <th>2024-03-22</th>\n",
       "      <td>-0.006304</td>\n",
       "      <td>0.001144</td>\n",
       "    </tr>\n",
       "  </tbody>\n",
       "</table>\n",
       "<p>808 rows × 2 columns</p>\n",
       "</div>"
      ],
      "text/plain": [
       "                 VTI       QQQ\n",
       "Date                          \n",
       "2021-01-06       NaN       NaN\n",
       "2021-01-07  0.016038  0.024192\n",
       "2021-01-08  0.004841  0.012858\n",
       "2021-01-11 -0.005972 -0.014450\n",
       "2021-01-12  0.003534 -0.001590\n",
       "...              ...       ...\n",
       "2024-03-18  0.005085  0.009537\n",
       "2024-03-19  0.005765  0.002492\n",
       "2024-03-20  0.010138  0.011857\n",
       "2024-03-21  0.004130  0.004732\n",
       "2024-03-22 -0.006304  0.001144\n",
       "\n",
       "[808 rows x 2 columns]"
      ]
     },
     "execution_count": 9,
     "metadata": {},
     "output_type": "execute_result"
    }
   ],
   "source": [
    "return_data = (mydata/mydata.shift(1) - 1)\n",
    "return_data"
   ]
  },
  {
   "cell_type": "code",
   "execution_count": 10,
   "id": "1292b4e0",
   "metadata": {},
   "outputs": [
    {
     "data": {
      "text/html": [
       "<div>\n",
       "<style scoped>\n",
       "    .dataframe tbody tr th:only-of-type {\n",
       "        vertical-align: middle;\n",
       "    }\n",
       "\n",
       "    .dataframe tbody tr th {\n",
       "        vertical-align: top;\n",
       "    }\n",
       "\n",
       "    .dataframe thead th {\n",
       "        text-align: right;\n",
       "    }\n",
       "</style>\n",
       "<table border=\"1\" class=\"dataframe\">\n",
       "  <thead>\n",
       "    <tr style=\"text-align: right;\">\n",
       "      <th></th>\n",
       "      <th>VTI</th>\n",
       "      <th>QQQ</th>\n",
       "    </tr>\n",
       "    <tr>\n",
       "      <th>Date</th>\n",
       "      <th></th>\n",
       "      <th></th>\n",
       "    </tr>\n",
       "  </thead>\n",
       "  <tbody>\n",
       "    <tr>\n",
       "      <th>2021-01-06</th>\n",
       "      <td>0.000000</td>\n",
       "      <td>0.000000</td>\n",
       "    </tr>\n",
       "    <tr>\n",
       "      <th>2021-01-07</th>\n",
       "      <td>0.016038</td>\n",
       "      <td>0.024192</td>\n",
       "    </tr>\n",
       "    <tr>\n",
       "      <th>2021-01-08</th>\n",
       "      <td>0.004841</td>\n",
       "      <td>0.012858</td>\n",
       "    </tr>\n",
       "    <tr>\n",
       "      <th>2021-01-11</th>\n",
       "      <td>-0.005972</td>\n",
       "      <td>-0.014450</td>\n",
       "    </tr>\n",
       "    <tr>\n",
       "      <th>2021-01-12</th>\n",
       "      <td>0.003534</td>\n",
       "      <td>-0.001590</td>\n",
       "    </tr>\n",
       "    <tr>\n",
       "      <th>...</th>\n",
       "      <td>...</td>\n",
       "      <td>...</td>\n",
       "    </tr>\n",
       "    <tr>\n",
       "      <th>2024-03-18</th>\n",
       "      <td>0.005085</td>\n",
       "      <td>0.009537</td>\n",
       "    </tr>\n",
       "    <tr>\n",
       "      <th>2024-03-19</th>\n",
       "      <td>0.005765</td>\n",
       "      <td>0.002492</td>\n",
       "    </tr>\n",
       "    <tr>\n",
       "      <th>2024-03-20</th>\n",
       "      <td>0.010138</td>\n",
       "      <td>0.011857</td>\n",
       "    </tr>\n",
       "    <tr>\n",
       "      <th>2024-03-21</th>\n",
       "      <td>0.004130</td>\n",
       "      <td>0.004732</td>\n",
       "    </tr>\n",
       "    <tr>\n",
       "      <th>2024-03-22</th>\n",
       "      <td>-0.006304</td>\n",
       "      <td>0.001144</td>\n",
       "    </tr>\n",
       "  </tbody>\n",
       "</table>\n",
       "<p>808 rows × 2 columns</p>\n",
       "</div>"
      ],
      "text/plain": [
       "                 VTI       QQQ\n",
       "Date                          \n",
       "2021-01-06  0.000000  0.000000\n",
       "2021-01-07  0.016038  0.024192\n",
       "2021-01-08  0.004841  0.012858\n",
       "2021-01-11 -0.005972 -0.014450\n",
       "2021-01-12  0.003534 -0.001590\n",
       "...              ...       ...\n",
       "2024-03-18  0.005085  0.009537\n",
       "2024-03-19  0.005765  0.002492\n",
       "2024-03-20  0.010138  0.011857\n",
       "2024-03-21  0.004130  0.004732\n",
       "2024-03-22 -0.006304  0.001144\n",
       "\n",
       "[808 rows x 2 columns]"
      ]
     },
     "execution_count": 10,
     "metadata": {},
     "output_type": "execute_result"
    }
   ],
   "source": [
    "return_data[np.isnan(return_data)] = 0\n",
    "return_data"
   ]
  },
  {
   "cell_type": "code",
   "execution_count": 11,
   "id": "35b1c91a",
   "metadata": {},
   "outputs": [
    {
     "name": "stdout",
     "output_type": "stream",
     "text": [
      "averge annual return on VTI 0.00046638389202897554\n",
      "annaul variance on VTI 0.00012546044629765826\n",
      "averge annual return on QQQ 0.0005941614292540808\n",
      "annual variance on QQQ 0.00021559421935834773\n"
     ]
    }
   ],
   "source": [
    "avg_VTI = return_data['%s'%tickers[0]].mean()\n",
    "print('averge annual return on %s'%tickers[0], avg_VTI)\n",
    "std_VTI = return_data['%s'%tickers[0]].var()\n",
    "print('annaul variance on %s'%tickers[0], std_VTI)\n",
    "avg_QQQ = return_data['%s'%tickers[1]].mean()\n",
    "print(' averge return on %s'%tickers[1], avg_QQQ)\n",
    "std_QQQ = return_data['%s'%tickers[1]].var()\n",
    "print('annual variance on %s'%tickers[1], std_QQQ)"
   ]
  },
  {
   "cell_type": "code",
   "execution_count": 8,
   "id": "7d3706d9",
   "metadata": {},
   "outputs": [
    {
     "data": {
      "text/plain": [
       "VTI    0.116596\n",
       "QQQ    0.148540\n",
       "dtype: float64"
      ]
     },
     "execution_count": 8,
     "metadata": {},
     "output_type": "execute_result"
    }
   ],
   "source": [
    "avg = (return_data).mean()\n",
    "avg"
   ]
  },
  {
   "cell_type": "code",
   "execution_count": 9,
   "id": "4540570a",
   "metadata": {},
   "outputs": [
    {
     "data": {
      "text/plain": [
       "VTI     7.841266\n",
       "QQQ    13.474638\n",
       "dtype: float64"
      ]
     },
     "execution_count": 9,
     "metadata": {},
     "output_type": "execute_result"
    }
   ],
   "source": [
    "std = (return_data).var()\n",
    "std"
   ]
  },
  {
   "cell_type": "markdown",
   "id": "c4e3adb0",
   "metadata": {},
   "source": [
    "covariance matrix"
   ]
  },
  {
   "cell_type": "code",
   "execution_count": 10,
   "id": "24507e5b",
   "metadata": {},
   "outputs": [
    {
     "data": {
      "text/html": [
       "<div>\n",
       "<style scoped>\n",
       "    .dataframe tbody tr th:only-of-type {\n",
       "        vertical-align: middle;\n",
       "    }\n",
       "\n",
       "    .dataframe tbody tr th {\n",
       "        vertical-align: top;\n",
       "    }\n",
       "\n",
       "    .dataframe thead th {\n",
       "        text-align: right;\n",
       "    }\n",
       "</style>\n",
       "<table border=\"1\" class=\"dataframe\">\n",
       "  <thead>\n",
       "    <tr style=\"text-align: right;\">\n",
       "      <th></th>\n",
       "      <th>VTI</th>\n",
       "      <th>QQQ</th>\n",
       "    </tr>\n",
       "  </thead>\n",
       "  <tbody>\n",
       "    <tr>\n",
       "      <th>VTI</th>\n",
       "      <td>7.841266</td>\n",
       "      <td>9.651415</td>\n",
       "    </tr>\n",
       "    <tr>\n",
       "      <th>QQQ</th>\n",
       "      <td>9.651415</td>\n",
       "      <td>13.474638</td>\n",
       "    </tr>\n",
       "  </tbody>\n",
       "</table>\n",
       "</div>"
      ],
      "text/plain": [
       "          VTI        QQQ\n",
       "VTI  7.841266   9.651415\n",
       "QQQ  9.651415  13.474638"
      ]
     },
     "execution_count": 10,
     "metadata": {},
     "output_type": "execute_result"
    }
   ],
   "source": [
    "return_data.cov()"
   ]
  },
  {
   "cell_type": "code",
   "execution_count": 12,
   "id": "0c59e283",
   "metadata": {},
   "outputs": [
    {
     "data": {
      "text/html": [
       "<div>\n",
       "<style scoped>\n",
       "    .dataframe tbody tr th:only-of-type {\n",
       "        vertical-align: middle;\n",
       "    }\n",
       "\n",
       "    .dataframe tbody tr th {\n",
       "        vertical-align: top;\n",
       "    }\n",
       "\n",
       "    .dataframe thead th {\n",
       "        text-align: right;\n",
       "    }\n",
       "</style>\n",
       "<table border=\"1\" class=\"dataframe\">\n",
       "  <thead>\n",
       "    <tr style=\"text-align: right;\">\n",
       "      <th></th>\n",
       "      <th>VTI</th>\n",
       "      <th>QQQ</th>\n",
       "    </tr>\n",
       "  </thead>\n",
       "  <tbody>\n",
       "    <tr>\n",
       "      <th>VTI</th>\n",
       "      <td>1.000000</td>\n",
       "      <td>0.938943</td>\n",
       "    </tr>\n",
       "    <tr>\n",
       "      <th>QQQ</th>\n",
       "      <td>0.938943</td>\n",
       "      <td>1.000000</td>\n",
       "    </tr>\n",
       "  </tbody>\n",
       "</table>\n",
       "</div>"
      ],
      "text/plain": [
       "          VTI       QQQ\n",
       "VTI  1.000000  0.938943\n",
       "QQQ  0.938943  1.000000"
      ]
     },
     "execution_count": 12,
     "metadata": {},
     "output_type": "execute_result"
    }
   ],
   "source": [
    "return_data.corr()"
   ]
  },
  {
   "cell_type": "code",
   "execution_count": null,
   "id": "1e2b2dd5",
   "metadata": {},
   "outputs": [],
   "source": []
  }
 ],
 "metadata": {
  "kernelspec": {
   "display_name": "Python 3 (ipykernel)",
   "language": "python",
   "name": "python3"
  },
  "language_info": {
   "codemirror_mode": {
    "name": "ipython",
    "version": 3
   },
   "file_extension": ".py",
   "mimetype": "text/x-python",
   "name": "python",
   "nbconvert_exporter": "python",
   "pygments_lexer": "ipython3",
   "version": "3.9.13"
  }
 },
 "nbformat": 4,
 "nbformat_minor": 5
}
