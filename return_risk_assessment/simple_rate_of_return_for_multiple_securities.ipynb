{
 "cells": [
  {
   "cell_type": "code",
   "execution_count": 1,
   "id": "04026824",
   "metadata": {},
   "outputs": [],
   "source": [
    "import pandas as pd\n",
    "import numpy as np\n",
    "from pandas_datareader import data as pdr\n",
    "import yfinance as yfin\n",
    "import matplotlib.pyplot as plt"
   ]
  },
  {
   "cell_type": "code",
   "execution_count": 2,
   "id": "0809f3a0",
   "metadata": {},
   "outputs": [
    {
     "name": "stderr",
     "output_type": "stream",
     "text": [
      "[*********************100%%**********************]  1 of 1 completed\n",
      "[*********************100%%**********************]  1 of 1 completed\n",
      "[*********************100%%**********************]  1 of 1 completed\n",
      "[*********************100%%**********************]  1 of 1 completed\n"
     ]
    }
   ],
   "source": [
    "tickers = ['PG','MSFT','F','GE']\n",
    "yfin.pdr_override() #  you ensure compatibility with the Yahoo Finance API changes and possibly improve the reliability and functionality of data retrieval from Yahoo Finance within your code\n",
    "mydata = pd.DataFrame()\n",
    "for t in tickers:\n",
    "    mydata[t] = pdr.get_data_yahoo(t, start=\"1995-1-1\", end=\"2024-3-23\")['Adj Close']"
   ]
  },
  {
   "cell_type": "code",
   "execution_count": 3,
   "id": "e228b12d",
   "metadata": {},
   "outputs": [
    {
     "name": "stdout",
     "output_type": "stream",
     "text": [
      "<class 'pandas.core.frame.DataFrame'>\n",
      "DatetimeIndex: 7357 entries, 1995-01-03 to 2024-03-22\n",
      "Data columns (total 4 columns):\n",
      " #   Column  Non-Null Count  Dtype  \n",
      "---  ------  --------------  -----  \n",
      " 0   PG      7357 non-null   float64\n",
      " 1   MSFT    7357 non-null   float64\n",
      " 2   F       7357 non-null   float64\n",
      " 3   GE      7357 non-null   float64\n",
      "dtypes: float64(4)\n",
      "memory usage: 287.4 KB\n"
     ]
    }
   ],
   "source": [
    "mydata.info()"
   ]
  },
  {
   "cell_type": "code",
   "execution_count": 4,
   "id": "38c166b3",
   "metadata": {},
   "outputs": [
    {
     "data": {
      "text/html": [
       "<div>\n",
       "<style scoped>\n",
       "    .dataframe tbody tr th:only-of-type {\n",
       "        vertical-align: middle;\n",
       "    }\n",
       "\n",
       "    .dataframe tbody tr th {\n",
       "        vertical-align: top;\n",
       "    }\n",
       "\n",
       "    .dataframe thead th {\n",
       "        text-align: right;\n",
       "    }\n",
       "</style>\n",
       "<table border=\"1\" class=\"dataframe\">\n",
       "  <thead>\n",
       "    <tr style=\"text-align: right;\">\n",
       "      <th></th>\n",
       "      <th>PG</th>\n",
       "      <th>MSFT</th>\n",
       "      <th>F</th>\n",
       "      <th>GE</th>\n",
       "    </tr>\n",
       "    <tr>\n",
       "      <th>Date</th>\n",
       "      <th></th>\n",
       "      <th></th>\n",
       "      <th></th>\n",
       "      <th></th>\n",
       "    </tr>\n",
       "  </thead>\n",
       "  <tbody>\n",
       "    <tr>\n",
       "      <th>1995-01-03</th>\n",
       "      <td>7.578554</td>\n",
       "      <td>2.327824</td>\n",
       "      <td>3.719225</td>\n",
       "      <td>25.478426</td>\n",
       "    </tr>\n",
       "    <tr>\n",
       "      <th>1995-01-04</th>\n",
       "      <td>7.517805</td>\n",
       "      <td>2.344746</td>\n",
       "      <td>3.819294</td>\n",
       "      <td>25.478426</td>\n",
       "    </tr>\n",
       "    <tr>\n",
       "      <th>1995-01-05</th>\n",
       "      <td>7.411496</td>\n",
       "      <td>2.306069</td>\n",
       "      <td>3.785934</td>\n",
       "      <td>25.540867</td>\n",
       "    </tr>\n",
       "    <tr>\n",
       "      <th>1995-01-06</th>\n",
       "      <td>7.426673</td>\n",
       "      <td>2.344746</td>\n",
       "      <td>3.785934</td>\n",
       "      <td>25.415968</td>\n",
       "    </tr>\n",
       "    <tr>\n",
       "      <th>1995-01-09</th>\n",
       "      <td>7.396307</td>\n",
       "      <td>2.330242</td>\n",
       "      <td>3.852648</td>\n",
       "      <td>25.166197</td>\n",
       "    </tr>\n",
       "  </tbody>\n",
       "</table>\n",
       "</div>"
      ],
      "text/plain": [
       "                  PG      MSFT         F         GE\n",
       "Date                                               \n",
       "1995-01-03  7.578554  2.327824  3.719225  25.478426\n",
       "1995-01-04  7.517805  2.344746  3.819294  25.478426\n",
       "1995-01-05  7.411496  2.306069  3.785934  25.540867\n",
       "1995-01-06  7.426673  2.344746  3.785934  25.415968\n",
       "1995-01-09  7.396307  2.330242  3.852648  25.166197"
      ]
     },
     "execution_count": 4,
     "metadata": {},
     "output_type": "execute_result"
    }
   ],
   "source": [
    "mydata.head()"
   ]
  },
  {
   "cell_type": "code",
   "execution_count": 5,
   "id": "8292cd2d",
   "metadata": {},
   "outputs": [
    {
     "data": {
      "text/html": [
       "<div>\n",
       "<style scoped>\n",
       "    .dataframe tbody tr th:only-of-type {\n",
       "        vertical-align: middle;\n",
       "    }\n",
       "\n",
       "    .dataframe tbody tr th {\n",
       "        vertical-align: top;\n",
       "    }\n",
       "\n",
       "    .dataframe thead th {\n",
       "        text-align: right;\n",
       "    }\n",
       "</style>\n",
       "<table border=\"1\" class=\"dataframe\">\n",
       "  <thead>\n",
       "    <tr style=\"text-align: right;\">\n",
       "      <th></th>\n",
       "      <th>PG</th>\n",
       "      <th>MSFT</th>\n",
       "      <th>F</th>\n",
       "      <th>GE</th>\n",
       "    </tr>\n",
       "    <tr>\n",
       "      <th>Date</th>\n",
       "      <th></th>\n",
       "      <th></th>\n",
       "      <th></th>\n",
       "      <th></th>\n",
       "    </tr>\n",
       "  </thead>\n",
       "  <tbody>\n",
       "    <tr>\n",
       "      <th>2024-03-18</th>\n",
       "      <td>161.210007</td>\n",
       "      <td>417.320007</td>\n",
       "      <td>12.18</td>\n",
       "      <td>169.910004</td>\n",
       "    </tr>\n",
       "    <tr>\n",
       "      <th>2024-03-19</th>\n",
       "      <td>161.830002</td>\n",
       "      <td>421.410004</td>\n",
       "      <td>12.30</td>\n",
       "      <td>173.460007</td>\n",
       "    </tr>\n",
       "    <tr>\n",
       "      <th>2024-03-20</th>\n",
       "      <td>161.990005</td>\n",
       "      <td>425.230011</td>\n",
       "      <td>12.90</td>\n",
       "      <td>173.929993</td>\n",
       "    </tr>\n",
       "    <tr>\n",
       "      <th>2024-03-21</th>\n",
       "      <td>161.860001</td>\n",
       "      <td>429.369995</td>\n",
       "      <td>12.92</td>\n",
       "      <td>176.639999</td>\n",
       "    </tr>\n",
       "    <tr>\n",
       "      <th>2024-03-22</th>\n",
       "      <td>161.660004</td>\n",
       "      <td>428.739990</td>\n",
       "      <td>12.91</td>\n",
       "      <td>175.149994</td>\n",
       "    </tr>\n",
       "  </tbody>\n",
       "</table>\n",
       "</div>"
      ],
      "text/plain": [
       "                    PG        MSFT      F          GE\n",
       "Date                                                 \n",
       "2024-03-18  161.210007  417.320007  12.18  169.910004\n",
       "2024-03-19  161.830002  421.410004  12.30  173.460007\n",
       "2024-03-20  161.990005  425.230011  12.90  173.929993\n",
       "2024-03-21  161.860001  429.369995  12.92  176.639999\n",
       "2024-03-22  161.660004  428.739990  12.91  175.149994"
      ]
     },
     "execution_count": 5,
     "metadata": {},
     "output_type": "execute_result"
    }
   ],
   "source": [
    "mydata.tail()"
   ]
  },
  {
   "cell_type": "code",
   "execution_count": 6,
   "id": "e55d4500",
   "metadata": {},
   "outputs": [
    {
     "data": {
      "text/plain": [
       "PG       7.578554\n",
       "MSFT     2.327824\n",
       "F        3.719225\n",
       "GE      25.478426\n",
       "Name: 1995-01-03 00:00:00, dtype: float64"
      ]
     },
     "execution_count": 6,
     "metadata": {},
     "output_type": "execute_result"
    }
   ],
   "source": [
    "mydata.iloc[0]"
   ]
  },
  {
   "cell_type": "code",
   "execution_count": 7,
   "id": "2178dff7",
   "metadata": {},
   "outputs": [
    {
     "data": {
      "text/html": [
       "<div>\n",
       "<style scoped>\n",
       "    .dataframe tbody tr th:only-of-type {\n",
       "        vertical-align: middle;\n",
       "    }\n",
       "\n",
       "    .dataframe tbody tr th {\n",
       "        vertical-align: top;\n",
       "    }\n",
       "\n",
       "    .dataframe thead th {\n",
       "        text-align: right;\n",
       "    }\n",
       "</style>\n",
       "<table border=\"1\" class=\"dataframe\">\n",
       "  <thead>\n",
       "    <tr style=\"text-align: right;\">\n",
       "      <th></th>\n",
       "      <th>PG</th>\n",
       "      <th>MSFT</th>\n",
       "      <th>F</th>\n",
       "      <th>GE</th>\n",
       "    </tr>\n",
       "    <tr>\n",
       "      <th>Date</th>\n",
       "      <th></th>\n",
       "      <th></th>\n",
       "      <th></th>\n",
       "      <th></th>\n",
       "    </tr>\n",
       "  </thead>\n",
       "  <tbody>\n",
       "    <tr>\n",
       "      <th>1995-01-03</th>\n",
       "      <td>NaN</td>\n",
       "      <td>NaN</td>\n",
       "      <td>NaN</td>\n",
       "      <td>NaN</td>\n",
       "    </tr>\n",
       "    <tr>\n",
       "      <th>1995-01-04</th>\n",
       "      <td>-0.008016</td>\n",
       "      <td>0.007269</td>\n",
       "      <td>0.026906</td>\n",
       "      <td>0.000000</td>\n",
       "    </tr>\n",
       "    <tr>\n",
       "      <th>1995-01-05</th>\n",
       "      <td>-0.014141</td>\n",
       "      <td>-0.016495</td>\n",
       "      <td>-0.008734</td>\n",
       "      <td>0.002451</td>\n",
       "    </tr>\n",
       "    <tr>\n",
       "      <th>1995-01-06</th>\n",
       "      <td>0.002048</td>\n",
       "      <td>0.016772</td>\n",
       "      <td>0.000000</td>\n",
       "      <td>-0.004890</td>\n",
       "    </tr>\n",
       "    <tr>\n",
       "      <th>1995-01-09</th>\n",
       "      <td>-0.004089</td>\n",
       "      <td>-0.006186</td>\n",
       "      <td>0.017621</td>\n",
       "      <td>-0.009827</td>\n",
       "    </tr>\n",
       "    <tr>\n",
       "      <th>...</th>\n",
       "      <td>...</td>\n",
       "      <td>...</td>\n",
       "      <td>...</td>\n",
       "      <td>...</td>\n",
       "    </tr>\n",
       "    <tr>\n",
       "      <th>2024-03-18</th>\n",
       "      <td>-0.001053</td>\n",
       "      <td>0.002161</td>\n",
       "      <td>0.009950</td>\n",
       "      <td>0.006039</td>\n",
       "    </tr>\n",
       "    <tr>\n",
       "      <th>2024-03-19</th>\n",
       "      <td>0.003846</td>\n",
       "      <td>0.009801</td>\n",
       "      <td>0.009852</td>\n",
       "      <td>0.020893</td>\n",
       "    </tr>\n",
       "    <tr>\n",
       "      <th>2024-03-20</th>\n",
       "      <td>0.000989</td>\n",
       "      <td>0.009065</td>\n",
       "      <td>0.048780</td>\n",
       "      <td>0.002709</td>\n",
       "    </tr>\n",
       "    <tr>\n",
       "      <th>2024-03-21</th>\n",
       "      <td>-0.000803</td>\n",
       "      <td>0.009736</td>\n",
       "      <td>0.001550</td>\n",
       "      <td>0.015581</td>\n",
       "    </tr>\n",
       "    <tr>\n",
       "      <th>2024-03-22</th>\n",
       "      <td>-0.001236</td>\n",
       "      <td>-0.001467</td>\n",
       "      <td>-0.000774</td>\n",
       "      <td>-0.008435</td>\n",
       "    </tr>\n",
       "  </tbody>\n",
       "</table>\n",
       "<p>7357 rows × 4 columns</p>\n",
       "</div>"
      ],
      "text/plain": [
       "                  PG      MSFT         F        GE\n",
       "Date                                              \n",
       "1995-01-03       NaN       NaN       NaN       NaN\n",
       "1995-01-04 -0.008016  0.007269  0.026906  0.000000\n",
       "1995-01-05 -0.014141 -0.016495 -0.008734  0.002451\n",
       "1995-01-06  0.002048  0.016772  0.000000 -0.004890\n",
       "1995-01-09 -0.004089 -0.006186  0.017621 -0.009827\n",
       "...              ...       ...       ...       ...\n",
       "2024-03-18 -0.001053  0.002161  0.009950  0.006039\n",
       "2024-03-19  0.003846  0.009801  0.009852  0.020893\n",
       "2024-03-20  0.000989  0.009065  0.048780  0.002709\n",
       "2024-03-21 -0.000803  0.009736  0.001550  0.015581\n",
       "2024-03-22 -0.001236 -0.001467 -0.000774 -0.008435\n",
       "\n",
       "[7357 rows x 4 columns]"
      ]
     },
     "execution_count": 7,
     "metadata": {},
     "output_type": "execute_result"
    }
   ],
   "source": [
    "simple_return = (mydata/mydata.shift(1)) - 1\n",
    "simple_return"
   ]
  },
  {
   "cell_type": "code",
   "execution_count": 8,
   "id": "f45a86cb",
   "metadata": {},
   "outputs": [
    {
     "data": {
      "text/html": [
       "<div>\n",
       "<style scoped>\n",
       "    .dataframe tbody tr th:only-of-type {\n",
       "        vertical-align: middle;\n",
       "    }\n",
       "\n",
       "    .dataframe tbody tr th {\n",
       "        vertical-align: top;\n",
       "    }\n",
       "\n",
       "    .dataframe thead th {\n",
       "        text-align: right;\n",
       "    }\n",
       "</style>\n",
       "<table border=\"1\" class=\"dataframe\">\n",
       "  <thead>\n",
       "    <tr style=\"text-align: right;\">\n",
       "      <th></th>\n",
       "      <th>PG</th>\n",
       "      <th>MSFT</th>\n",
       "      <th>F</th>\n",
       "      <th>GE</th>\n",
       "    </tr>\n",
       "    <tr>\n",
       "      <th>Date</th>\n",
       "      <th></th>\n",
       "      <th></th>\n",
       "      <th></th>\n",
       "      <th></th>\n",
       "    </tr>\n",
       "  </thead>\n",
       "  <tbody>\n",
       "    <tr>\n",
       "      <th>1995-01-03</th>\n",
       "      <td>0.000000</td>\n",
       "      <td>0.000000</td>\n",
       "      <td>0.000000</td>\n",
       "      <td>0.000000</td>\n",
       "    </tr>\n",
       "    <tr>\n",
       "      <th>1995-01-04</th>\n",
       "      <td>-0.008016</td>\n",
       "      <td>0.007269</td>\n",
       "      <td>0.026906</td>\n",
       "      <td>0.000000</td>\n",
       "    </tr>\n",
       "    <tr>\n",
       "      <th>1995-01-05</th>\n",
       "      <td>-0.014141</td>\n",
       "      <td>-0.016495</td>\n",
       "      <td>-0.008734</td>\n",
       "      <td>0.002451</td>\n",
       "    </tr>\n",
       "    <tr>\n",
       "      <th>1995-01-06</th>\n",
       "      <td>0.002048</td>\n",
       "      <td>0.016772</td>\n",
       "      <td>0.000000</td>\n",
       "      <td>-0.004890</td>\n",
       "    </tr>\n",
       "    <tr>\n",
       "      <th>1995-01-09</th>\n",
       "      <td>-0.004089</td>\n",
       "      <td>-0.006186</td>\n",
       "      <td>0.017621</td>\n",
       "      <td>-0.009827</td>\n",
       "    </tr>\n",
       "    <tr>\n",
       "      <th>...</th>\n",
       "      <td>...</td>\n",
       "      <td>...</td>\n",
       "      <td>...</td>\n",
       "      <td>...</td>\n",
       "    </tr>\n",
       "    <tr>\n",
       "      <th>2024-03-18</th>\n",
       "      <td>-0.001053</td>\n",
       "      <td>0.002161</td>\n",
       "      <td>0.009950</td>\n",
       "      <td>0.006039</td>\n",
       "    </tr>\n",
       "    <tr>\n",
       "      <th>2024-03-19</th>\n",
       "      <td>0.003846</td>\n",
       "      <td>0.009801</td>\n",
       "      <td>0.009852</td>\n",
       "      <td>0.020893</td>\n",
       "    </tr>\n",
       "    <tr>\n",
       "      <th>2024-03-20</th>\n",
       "      <td>0.000989</td>\n",
       "      <td>0.009065</td>\n",
       "      <td>0.048780</td>\n",
       "      <td>0.002709</td>\n",
       "    </tr>\n",
       "    <tr>\n",
       "      <th>2024-03-21</th>\n",
       "      <td>-0.000803</td>\n",
       "      <td>0.009736</td>\n",
       "      <td>0.001550</td>\n",
       "      <td>0.015581</td>\n",
       "    </tr>\n",
       "    <tr>\n",
       "      <th>2024-03-22</th>\n",
       "      <td>-0.001236</td>\n",
       "      <td>-0.001467</td>\n",
       "      <td>-0.000774</td>\n",
       "      <td>-0.008435</td>\n",
       "    </tr>\n",
       "  </tbody>\n",
       "</table>\n",
       "<p>7357 rows × 4 columns</p>\n",
       "</div>"
      ],
      "text/plain": [
       "                  PG      MSFT         F        GE\n",
       "Date                                              \n",
       "1995-01-03  0.000000  0.000000  0.000000  0.000000\n",
       "1995-01-04 -0.008016  0.007269  0.026906  0.000000\n",
       "1995-01-05 -0.014141 -0.016495 -0.008734  0.002451\n",
       "1995-01-06  0.002048  0.016772  0.000000 -0.004890\n",
       "1995-01-09 -0.004089 -0.006186  0.017621 -0.009827\n",
       "...              ...       ...       ...       ...\n",
       "2024-03-18 -0.001053  0.002161  0.009950  0.006039\n",
       "2024-03-19  0.003846  0.009801  0.009852  0.020893\n",
       "2024-03-20  0.000989  0.009065  0.048780  0.002709\n",
       "2024-03-21 -0.000803  0.009736  0.001550  0.015581\n",
       "2024-03-22 -0.001236 -0.001467 -0.000774 -0.008435\n",
       "\n",
       "[7357 rows x 4 columns]"
      ]
     },
     "execution_count": 8,
     "metadata": {},
     "output_type": "execute_result"
    }
   ],
   "source": [
    "simple_return[np.isnan(simple_return)] = 0\n",
    "simple_return"
   ]
  },
  {
   "cell_type": "code",
   "execution_count": 9,
   "id": "f324d307",
   "metadata": {},
   "outputs": [
    {
     "data": {
      "text/plain": [
       "<matplotlib.legend.Legend at 0x2178cd33bb0>"
      ]
     },
     "execution_count": 9,
     "metadata": {},
     "output_type": "execute_result"
    },
    {
     "data": {
      "image/png": "[encoded data removed]",
      "text/plain": [
       "<Figure size 640x480 with 1 Axes>"
      ]
     },
     "metadata": {},
     "output_type": "display_data"
    }
   ],
   "source": [
    "fig,ax = plt.subplots()\n",
    "data_points = ax.plot(simple_return)\n",
    "ax.legend( ['PG','MSFT','F','GE'])"
   ]
  },
  {
   "cell_type": "code",
   "execution_count": 10,
   "id": "757f2048",
   "metadata": {},
   "outputs": [],
   "source": [
    "annual_returns = np.average(simple_return,axis=0)*250"
   ]
  },
  {
   "cell_type": "code",
   "execution_count": 11,
   "id": "a6be10a2",
   "metadata": {},
   "outputs": [],
   "source": [
    "weight = np.array([0.25, 0.25, 0.25, 0.25])"
   ]
  },
  {
   "cell_type": "code",
   "execution_count": 12,
   "id": "21d5ef8f",
   "metadata": {},
   "outputs": [
    {
     "data": {
      "text/plain": [
       "'14.82359871577861 :average percent of return for the portfolio'"
      ]
     },
     "execution_count": 12,
     "metadata": {},
     "output_type": "execute_result"
    }
   ],
   "source": [
    "annual_return = 100 * np.dot(annual_returns, weight) \n",
    "str = str(annual_return) + ' :average percent of return for the portfolio'\n",
    "str"
   ]
  }
 ],
 "metadata": {
  "kernelspec": {
   "display_name": "Python 3 (ipykernel)",
   "language": "python",
   "name": "python3"
  },
  "language_info": {
   "codemirror_mode": {
    "name": "ipython",
    "version": 3
   },
   "file_extension": ".py",
   "mimetype": "text/x-python",
   "name": "python",
   "nbconvert_exporter": "python",
   "pygments_lexer": "ipython3",
   "version": "3.9.13"
  }
 },
 "nbformat": 4,
 "nbformat_minor": 5
}
