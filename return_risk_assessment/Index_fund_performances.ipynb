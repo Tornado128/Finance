{
 "cells": [
  {
   "cell_type": "code",
   "execution_count": 1,
   "id": "04026824",
   "metadata": {},
   "outputs": [],
   "source": [
    "import pandas as pd\n",
    "import numpy as np\n",
    "from pandas_datareader import data as pdr\n",
    "import yfinance as yfin\n",
    "import matplotlib.pyplot as plt"
   ]
  },
  {
   "cell_type": "code",
   "execution_count": 2,
   "id": "0809f3a0",
   "metadata": {},
   "outputs": [
    {
     "name": "stderr",
     "output_type": "stream",
     "text": [
      "[*********************100%%**********************]  1 of 1 completed\n",
      "[*********************100%%**********************]  1 of 1 completed\n",
      "[*********************100%%**********************]  1 of 1 completed\n",
      "[*********************100%%**********************]  1 of 1 completed\n"
     ]
    }
   ],
   "source": [
    "# comparing S&P 500, Nasdaq, German market, and Britain market\n",
    "tickers = ['^GSPC','^IXIC','^GDAXI','^FTSE']\n",
    "yfin.pdr_override() #  you ensure compatibility with the Yahoo Finance API changes and possibly improve the reliability and functionality of data retrieval from Yahoo Finance within your code\n",
    "mydata = pd.DataFrame()\n",
    "for t in tickers:\n",
    "    mydata[t] = pdr.get_data_yahoo(t, start=\"2003-1-1\", end=\"2024-3-23\")['Adj Close']"
   ]
  },
  {
   "cell_type": "code",
   "execution_count": 3,
   "id": "e228b12d",
   "metadata": {},
   "outputs": [
    {
     "name": "stdout",
     "output_type": "stream",
     "text": [
      "<class 'pandas.core.frame.DataFrame'>\n",
      "DatetimeIndex: 5342 entries, 2003-01-02 to 2024-03-22\n",
      "Data columns (total 4 columns):\n",
      " #   Column  Non-Null Count  Dtype  \n",
      "---  ------  --------------  -----  \n",
      " 0   ^GSPC   5342 non-null   float64\n",
      " 1   ^IXIC   5342 non-null   float64\n",
      " 2   ^GDAXI  5256 non-null   float64\n",
      " 3   ^FTSE   5244 non-null   float64\n",
      "dtypes: float64(4)\n",
      "memory usage: 208.7 KB\n"
     ]
    }
   ],
   "source": [
    "mydata.info()"
   ]
  },
  {
   "cell_type": "code",
   "execution_count": 4,
   "id": "38c166b3",
   "metadata": {},
   "outputs": [
    {
     "data": {
      "text/html": [
       "<div>\n",
       "<style scoped>\n",
       "    .dataframe tbody tr th:only-of-type {\n",
       "        vertical-align: middle;\n",
       "    }\n",
       "\n",
       "    .dataframe tbody tr th {\n",
       "        vertical-align: top;\n",
       "    }\n",
       "\n",
       "    .dataframe thead th {\n",
       "        text-align: right;\n",
       "    }\n",
       "</style>\n",
       "<table border=\"1\" class=\"dataframe\">\n",
       "  <thead>\n",
       "    <tr style=\"text-align: right;\">\n",
       "      <th></th>\n",
       "      <th>^GSPC</th>\n",
       "      <th>^IXIC</th>\n",
       "      <th>^GDAXI</th>\n",
       "      <th>^FTSE</th>\n",
       "    </tr>\n",
       "    <tr>\n",
       "      <th>Date</th>\n",
       "      <th></th>\n",
       "      <th></th>\n",
       "      <th></th>\n",
       "      <th></th>\n",
       "    </tr>\n",
       "  </thead>\n",
       "  <tbody>\n",
       "    <tr>\n",
       "      <th>2003-01-02</th>\n",
       "      <td>909.030029</td>\n",
       "      <td>1384.849976</td>\n",
       "      <td>3105.040039</td>\n",
       "      <td>4009.500000</td>\n",
       "    </tr>\n",
       "    <tr>\n",
       "      <th>2003-01-03</th>\n",
       "      <td>908.590027</td>\n",
       "      <td>1387.079956</td>\n",
       "      <td>3092.939941</td>\n",
       "      <td>4005.000000</td>\n",
       "    </tr>\n",
       "    <tr>\n",
       "      <th>2003-01-06</th>\n",
       "      <td>929.010010</td>\n",
       "      <td>1421.319946</td>\n",
       "      <td>3157.250000</td>\n",
       "      <td>4001.399902</td>\n",
       "    </tr>\n",
       "    <tr>\n",
       "      <th>2003-01-07</th>\n",
       "      <td>922.929993</td>\n",
       "      <td>1431.569946</td>\n",
       "      <td>3112.770020</td>\n",
       "      <td>3957.399902</td>\n",
       "    </tr>\n",
       "    <tr>\n",
       "      <th>2003-01-08</th>\n",
       "      <td>909.929993</td>\n",
       "      <td>1401.069946</td>\n",
       "      <td>2993.000000</td>\n",
       "      <td>3924.800049</td>\n",
       "    </tr>\n",
       "  </tbody>\n",
       "</table>\n",
       "</div>"
      ],
      "text/plain": [
       "                 ^GSPC        ^IXIC       ^GDAXI        ^FTSE\n",
       "Date                                                         \n",
       "2003-01-02  909.030029  1384.849976  3105.040039  4009.500000\n",
       "2003-01-03  908.590027  1387.079956  3092.939941  4005.000000\n",
       "2003-01-06  929.010010  1421.319946  3157.250000  4001.399902\n",
       "2003-01-07  922.929993  1431.569946  3112.770020  3957.399902\n",
       "2003-01-08  909.929993  1401.069946  2993.000000  3924.800049"
      ]
     },
     "execution_count": 4,
     "metadata": {},
     "output_type": "execute_result"
    }
   ],
   "source": [
    "mydata.head()"
   ]
  },
  {
   "cell_type": "code",
   "execution_count": 5,
   "id": "8292cd2d",
   "metadata": {},
   "outputs": [
    {
     "data": {
      "text/html": [
       "<div>\n",
       "<style scoped>\n",
       "    .dataframe tbody tr th:only-of-type {\n",
       "        vertical-align: middle;\n",
       "    }\n",
       "\n",
       "    .dataframe tbody tr th {\n",
       "        vertical-align: top;\n",
       "    }\n",
       "\n",
       "    .dataframe thead th {\n",
       "        text-align: right;\n",
       "    }\n",
       "</style>\n",
       "<table border=\"1\" class=\"dataframe\">\n",
       "  <thead>\n",
       "    <tr style=\"text-align: right;\">\n",
       "      <th></th>\n",
       "      <th>^GSPC</th>\n",
       "      <th>^IXIC</th>\n",
       "      <th>^GDAXI</th>\n",
       "      <th>^FTSE</th>\n",
       "    </tr>\n",
       "    <tr>\n",
       "      <th>Date</th>\n",
       "      <th></th>\n",
       "      <th></th>\n",
       "      <th></th>\n",
       "      <th></th>\n",
       "    </tr>\n",
       "  </thead>\n",
       "  <tbody>\n",
       "    <tr>\n",
       "      <th>2024-03-18</th>\n",
       "      <td>5149.419922</td>\n",
       "      <td>16103.450195</td>\n",
       "      <td>17932.679688</td>\n",
       "      <td>7722.600098</td>\n",
       "    </tr>\n",
       "    <tr>\n",
       "      <th>2024-03-19</th>\n",
       "      <td>5178.509766</td>\n",
       "      <td>16166.790039</td>\n",
       "      <td>17987.490234</td>\n",
       "      <td>7738.299805</td>\n",
       "    </tr>\n",
       "    <tr>\n",
       "      <th>2024-03-20</th>\n",
       "      <td>5224.620117</td>\n",
       "      <td>16369.410156</td>\n",
       "      <td>18015.130859</td>\n",
       "      <td>7737.399902</td>\n",
       "    </tr>\n",
       "    <tr>\n",
       "      <th>2024-03-21</th>\n",
       "      <td>5241.529785</td>\n",
       "      <td>16401.839844</td>\n",
       "      <td>18179.250000</td>\n",
       "      <td>7882.600098</td>\n",
       "    </tr>\n",
       "    <tr>\n",
       "      <th>2024-03-22</th>\n",
       "      <td>5234.180176</td>\n",
       "      <td>16428.820312</td>\n",
       "      <td>18205.939453</td>\n",
       "      <td>7930.899902</td>\n",
       "    </tr>\n",
       "  </tbody>\n",
       "</table>\n",
       "</div>"
      ],
      "text/plain": [
       "                  ^GSPC         ^IXIC        ^GDAXI        ^FTSE\n",
       "Date                                                            \n",
       "2024-03-18  5149.419922  16103.450195  17932.679688  7722.600098\n",
       "2024-03-19  5178.509766  16166.790039  17987.490234  7738.299805\n",
       "2024-03-20  5224.620117  16369.410156  18015.130859  7737.399902\n",
       "2024-03-21  5241.529785  16401.839844  18179.250000  7882.600098\n",
       "2024-03-22  5234.180176  16428.820312  18205.939453  7930.899902"
      ]
     },
     "execution_count": 5,
     "metadata": {},
     "output_type": "execute_result"
    }
   ],
   "source": [
    "mydata.tail()"
   ]
  },
  {
   "cell_type": "code",
   "execution_count": 6,
   "id": "e55d4500",
   "metadata": {},
   "outputs": [],
   "source": [
    "# price at t=0\n",
    "S = mydata.iloc[0]"
   ]
  },
  {
   "cell_type": "code",
   "execution_count": 7,
   "id": "2178dff7",
   "metadata": {},
   "outputs": [
    {
     "data": {
      "text/html": [
       "<div>\n",
       "<style scoped>\n",
       "    .dataframe tbody tr th:only-of-type {\n",
       "        vertical-align: middle;\n",
       "    }\n",
       "\n",
       "    .dataframe tbody tr th {\n",
       "        vertical-align: top;\n",
       "    }\n",
       "\n",
       "    .dataframe thead th {\n",
       "        text-align: right;\n",
       "    }\n",
       "</style>\n",
       "<table border=\"1\" class=\"dataframe\">\n",
       "  <thead>\n",
       "    <tr style=\"text-align: right;\">\n",
       "      <th></th>\n",
       "      <th>^GSPC</th>\n",
       "      <th>^IXIC</th>\n",
       "      <th>^GDAXI</th>\n",
       "      <th>^FTSE</th>\n",
       "    </tr>\n",
       "    <tr>\n",
       "      <th>Date</th>\n",
       "      <th></th>\n",
       "      <th></th>\n",
       "      <th></th>\n",
       "      <th></th>\n",
       "    </tr>\n",
       "  </thead>\n",
       "  <tbody>\n",
       "    <tr>\n",
       "      <th>2003-01-02</th>\n",
       "      <td>NaN</td>\n",
       "      <td>NaN</td>\n",
       "      <td>NaN</td>\n",
       "      <td>NaN</td>\n",
       "    </tr>\n",
       "    <tr>\n",
       "      <th>2003-01-03</th>\n",
       "      <td>-0.000484</td>\n",
       "      <td>0.001610</td>\n",
       "      <td>-0.003897</td>\n",
       "      <td>-0.001122</td>\n",
       "    </tr>\n",
       "    <tr>\n",
       "      <th>2003-01-06</th>\n",
       "      <td>0.022474</td>\n",
       "      <td>0.024685</td>\n",
       "      <td>0.020793</td>\n",
       "      <td>-0.000899</td>\n",
       "    </tr>\n",
       "    <tr>\n",
       "      <th>2003-01-07</th>\n",
       "      <td>-0.006545</td>\n",
       "      <td>0.007212</td>\n",
       "      <td>-0.014088</td>\n",
       "      <td>-0.010996</td>\n",
       "    </tr>\n",
       "    <tr>\n",
       "      <th>2003-01-08</th>\n",
       "      <td>-0.014086</td>\n",
       "      <td>-0.021305</td>\n",
       "      <td>-0.038477</td>\n",
       "      <td>-0.008238</td>\n",
       "    </tr>\n",
       "    <tr>\n",
       "      <th>...</th>\n",
       "      <td>...</td>\n",
       "      <td>...</td>\n",
       "      <td>...</td>\n",
       "      <td>...</td>\n",
       "    </tr>\n",
       "    <tr>\n",
       "      <th>2024-03-18</th>\n",
       "      <td>0.006318</td>\n",
       "      <td>0.008156</td>\n",
       "      <td>-0.000221</td>\n",
       "      <td>-0.000621</td>\n",
       "    </tr>\n",
       "    <tr>\n",
       "      <th>2024-03-19</th>\n",
       "      <td>0.005649</td>\n",
       "      <td>0.003933</td>\n",
       "      <td>0.003056</td>\n",
       "      <td>0.002033</td>\n",
       "    </tr>\n",
       "    <tr>\n",
       "      <th>2024-03-20</th>\n",
       "      <td>0.008904</td>\n",
       "      <td>0.012533</td>\n",
       "      <td>0.001537</td>\n",
       "      <td>-0.000116</td>\n",
       "    </tr>\n",
       "    <tr>\n",
       "      <th>2024-03-21</th>\n",
       "      <td>0.003237</td>\n",
       "      <td>0.001981</td>\n",
       "      <td>0.009110</td>\n",
       "      <td>0.018766</td>\n",
       "    </tr>\n",
       "    <tr>\n",
       "      <th>2024-03-22</th>\n",
       "      <td>-0.001402</td>\n",
       "      <td>0.001645</td>\n",
       "      <td>0.001468</td>\n",
       "      <td>0.006127</td>\n",
       "    </tr>\n",
       "  </tbody>\n",
       "</table>\n",
       "<p>5342 rows × 4 columns</p>\n",
       "</div>"
      ],
      "text/plain": [
       "               ^GSPC     ^IXIC    ^GDAXI     ^FTSE\n",
       "Date                                              \n",
       "2003-01-02       NaN       NaN       NaN       NaN\n",
       "2003-01-03 -0.000484  0.001610 -0.003897 -0.001122\n",
       "2003-01-06  0.022474  0.024685  0.020793 -0.000899\n",
       "2003-01-07 -0.006545  0.007212 -0.014088 -0.010996\n",
       "2003-01-08 -0.014086 -0.021305 -0.038477 -0.008238\n",
       "...              ...       ...       ...       ...\n",
       "2024-03-18  0.006318  0.008156 -0.000221 -0.000621\n",
       "2024-03-19  0.005649  0.003933  0.003056  0.002033\n",
       "2024-03-20  0.008904  0.012533  0.001537 -0.000116\n",
       "2024-03-21  0.003237  0.001981  0.009110  0.018766\n",
       "2024-03-22 -0.001402  0.001645  0.001468  0.006127\n",
       "\n",
       "[5342 rows x 4 columns]"
      ]
     },
     "execution_count": 7,
     "metadata": {},
     "output_type": "execute_result"
    }
   ],
   "source": [
    "# simple rate of return for each index\n",
    "simple_return = (mydata/mydata.shift(1)) - 1\n",
    "simple_return"
   ]
  },
  {
   "cell_type": "code",
   "execution_count": 8,
   "id": "f45a86cb",
   "metadata": {},
   "outputs": [
    {
     "data": {
      "text/html": [
       "<div>\n",
       "<style scoped>\n",
       "    .dataframe tbody tr th:only-of-type {\n",
       "        vertical-align: middle;\n",
       "    }\n",
       "\n",
       "    .dataframe tbody tr th {\n",
       "        vertical-align: top;\n",
       "    }\n",
       "\n",
       "    .dataframe thead th {\n",
       "        text-align: right;\n",
       "    }\n",
       "</style>\n",
       "<table border=\"1\" class=\"dataframe\">\n",
       "  <thead>\n",
       "    <tr style=\"text-align: right;\">\n",
       "      <th></th>\n",
       "      <th>^GSPC</th>\n",
       "      <th>^IXIC</th>\n",
       "      <th>^GDAXI</th>\n",
       "      <th>^FTSE</th>\n",
       "    </tr>\n",
       "    <tr>\n",
       "      <th>Date</th>\n",
       "      <th></th>\n",
       "      <th></th>\n",
       "      <th></th>\n",
       "      <th></th>\n",
       "    </tr>\n",
       "  </thead>\n",
       "  <tbody>\n",
       "    <tr>\n",
       "      <th>2003-01-02</th>\n",
       "      <td>0.000000</td>\n",
       "      <td>0.000000</td>\n",
       "      <td>0.000000</td>\n",
       "      <td>0.000000</td>\n",
       "    </tr>\n",
       "    <tr>\n",
       "      <th>2003-01-03</th>\n",
       "      <td>-0.000484</td>\n",
       "      <td>0.001610</td>\n",
       "      <td>-0.003897</td>\n",
       "      <td>-0.001122</td>\n",
       "    </tr>\n",
       "    <tr>\n",
       "      <th>2003-01-06</th>\n",
       "      <td>0.022474</td>\n",
       "      <td>0.024685</td>\n",
       "      <td>0.020793</td>\n",
       "      <td>-0.000899</td>\n",
       "    </tr>\n",
       "    <tr>\n",
       "      <th>2003-01-07</th>\n",
       "      <td>-0.006545</td>\n",
       "      <td>0.007212</td>\n",
       "      <td>-0.014088</td>\n",
       "      <td>-0.010996</td>\n",
       "    </tr>\n",
       "    <tr>\n",
       "      <th>2003-01-08</th>\n",
       "      <td>-0.014086</td>\n",
       "      <td>-0.021305</td>\n",
       "      <td>-0.038477</td>\n",
       "      <td>-0.008238</td>\n",
       "    </tr>\n",
       "    <tr>\n",
       "      <th>...</th>\n",
       "      <td>...</td>\n",
       "      <td>...</td>\n",
       "      <td>...</td>\n",
       "      <td>...</td>\n",
       "    </tr>\n",
       "    <tr>\n",
       "      <th>2024-03-18</th>\n",
       "      <td>0.006318</td>\n",
       "      <td>0.008156</td>\n",
       "      <td>-0.000221</td>\n",
       "      <td>-0.000621</td>\n",
       "    </tr>\n",
       "    <tr>\n",
       "      <th>2024-03-19</th>\n",
       "      <td>0.005649</td>\n",
       "      <td>0.003933</td>\n",
       "      <td>0.003056</td>\n",
       "      <td>0.002033</td>\n",
       "    </tr>\n",
       "    <tr>\n",
       "      <th>2024-03-20</th>\n",
       "      <td>0.008904</td>\n",
       "      <td>0.012533</td>\n",
       "      <td>0.001537</td>\n",
       "      <td>-0.000116</td>\n",
       "    </tr>\n",
       "    <tr>\n",
       "      <th>2024-03-21</th>\n",
       "      <td>0.003237</td>\n",
       "      <td>0.001981</td>\n",
       "      <td>0.009110</td>\n",
       "      <td>0.018766</td>\n",
       "    </tr>\n",
       "    <tr>\n",
       "      <th>2024-03-22</th>\n",
       "      <td>-0.001402</td>\n",
       "      <td>0.001645</td>\n",
       "      <td>0.001468</td>\n",
       "      <td>0.006127</td>\n",
       "    </tr>\n",
       "  </tbody>\n",
       "</table>\n",
       "<p>5342 rows × 4 columns</p>\n",
       "</div>"
      ],
      "text/plain": [
       "               ^GSPC     ^IXIC    ^GDAXI     ^FTSE\n",
       "Date                                              \n",
       "2003-01-02  0.000000  0.000000  0.000000  0.000000\n",
       "2003-01-03 -0.000484  0.001610 -0.003897 -0.001122\n",
       "2003-01-06  0.022474  0.024685  0.020793 -0.000899\n",
       "2003-01-07 -0.006545  0.007212 -0.014088 -0.010996\n",
       "2003-01-08 -0.014086 -0.021305 -0.038477 -0.008238\n",
       "...              ...       ...       ...       ...\n",
       "2024-03-18  0.006318  0.008156 -0.000221 -0.000621\n",
       "2024-03-19  0.005649  0.003933  0.003056  0.002033\n",
       "2024-03-20  0.008904  0.012533  0.001537 -0.000116\n",
       "2024-03-21  0.003237  0.001981  0.009110  0.018766\n",
       "2024-03-22 -0.001402  0.001645  0.001468  0.006127\n",
       "\n",
       "[5342 rows x 4 columns]"
      ]
     },
     "execution_count": 8,
     "metadata": {},
     "output_type": "execute_result"
    }
   ],
   "source": [
    "simple_return[np.isnan(simple_return)] = 0\n",
    "simple_return"
   ]
  },
  {
   "cell_type": "code",
   "execution_count": 9,
   "id": "f324d307",
   "metadata": {},
   "outputs": [
    {
     "data": {
      "text/plain": [
       "<matplotlib.legend.Legend at 0x2b8225120d0>"
      ]
     },
     "execution_count": 9,
     "metadata": {},
     "output_type": "execute_result"
    },
    {
     "data": {
      "image/png": "[encoded data removed]",
      "text/plain": [
       "<Figure size 640x480 with 1 Axes>"
      ]
     },
     "metadata": {},
     "output_type": "display_data"
    }
   ],
   "source": [
    "fig,ax = plt.subplots()\n",
    "data_points = ax.plot(simple_return, linewidth=0.5)\n",
    "ax.legend( ['^GSPC','^IXIC','^GDAXI','^FTSE'])"
   ]
  },
  {
   "cell_type": "code",
   "execution_count": 10,
   "id": "757f2048",
   "metadata": {},
   "outputs": [
    {
     "name": "stdout",
     "output_type": "stream",
     "text": [
      "annual rate of return:\n",
      "^GSPC :  0.09979321843598\n",
      "^IXIC :  0.13876132114000672\n",
      "^GDAXI :  0.09047028073621953\n",
      "^FTSE :  0.03970855689892117\n"
     ]
    }
   ],
   "source": [
    "annual_returns = np.average(simple_return,axis=0)*250\n",
    "print('annual rate of return:')\n",
    "for i in range(len(annual_returns)):\n",
    "    print(tickers[i], ': ', annual_returns[i])"
   ]
  },
  {
   "cell_type": "code",
   "execution_count": 11,
   "id": "7c91c9d7",
   "metadata": {},
   "outputs": [],
   "source": [
    "# graphical representation"
   ]
  },
  {
   "cell_type": "code",
   "execution_count": 12,
   "id": "547b2b97",
   "metadata": {},
   "outputs": [
    {
     "data": {
      "text/plain": [
       "<AxesSubplot:xlabel='Date'>"
      ]
     },
     "execution_count": 12,
     "metadata": {},
     "output_type": "execute_result"
    },
    {
     "data": {
      "image/png": "[encoded data removed]",
      "text/plain": [
       "<Figure size 640x480 with 1 Axes>"
      ]
     },
     "metadata": {},
     "output_type": "display_data"
    }
   ],
   "source": [
    "normalized_price = mydata/mydata.iloc[0]\n",
    "normalized_price.plot()"
   ]
  }
 ],
 "metadata": {
  "kernelspec": {
   "display_name": "Python 3 (ipykernel)",
   "language": "python",
   "name": "python3"
  },
  "language_info": {
   "codemirror_mode": {
    "name": "ipython",
    "version": 3
   },
   "file_extension": ".py",
   "mimetype": "text/x-python",
   "name": "python",
   "nbconvert_exporter": "python",
   "pygments_lexer": "ipython3",
   "version": "3.9.13"
  }
 },
 "nbformat": 4,
 "nbformat_minor": 5
}
