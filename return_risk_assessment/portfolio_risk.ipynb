{
 "cells": [
  {
   "cell_type": "markdown",
   "id": "6bec7df4",
   "metadata": {},
   "source": [
    "1. The risk of a security is measured by variance and standard deviation. Standard deviation also tells us about the volatility of a security\n",
    "2. In this code, we compare the risks associated with two securities."
   ]
  },
  {
   "cell_type": "code",
   "execution_count": 33,
   "id": "afc0ba5f",
   "metadata": {},
   "outputs": [],
   "source": [
    "import pandas as pd\n",
    "import numpy as np\n",
    "from pandas_datareader import data as pdr\n",
    "import yfinance as yfin\n",
    "import matplotlib.pyplot as plt"
   ]
  },
  {
   "cell_type": "code",
   "execution_count": 34,
   "id": "b3112cfe",
   "metadata": {},
   "outputs": [
    {
     "name": "stderr",
     "output_type": "stream",
     "text": [
      "[*********************100%%**********************]  1 of 1 completed\n",
      "[*********************100%%**********************]  1 of 1 completed\n"
     ]
    }
   ],
   "source": [
    "tickers = ['GLD','QQQ']\n",
    "yfin.pdr_override() #  you ensure compatibility with the Yahoo Finance API changes and possibly improve the reliability and functionality of data retrieval from Yahoo Finance within your code\n",
    "mydata = pd.DataFrame()\n",
    "for t in tickers:\n",
    "    mydata[t] = pdr.get_data_yahoo(t, start=\"2021-1-6\", end=\"2024-3-23\")['Adj Close']"
   ]
  },
  {
   "cell_type": "code",
   "execution_count": 35,
   "id": "238446da",
   "metadata": {},
   "outputs": [
    {
     "data": {
      "text/html": [
       "<div>\n",
       "<style scoped>\n",
       "    .dataframe tbody tr th:only-of-type {\n",
       "        vertical-align: middle;\n",
       "    }\n",
       "\n",
       "    .dataframe tbody tr th {\n",
       "        vertical-align: top;\n",
       "    }\n",
       "\n",
       "    .dataframe thead th {\n",
       "        text-align: right;\n",
       "    }\n",
       "</style>\n",
       "<table border=\"1\" class=\"dataframe\">\n",
       "  <thead>\n",
       "    <tr style=\"text-align: right;\">\n",
       "      <th></th>\n",
       "      <th>GLD</th>\n",
       "      <th>QQQ</th>\n",
       "    </tr>\n",
       "    <tr>\n",
       "      <th>Date</th>\n",
       "      <th></th>\n",
       "      <th></th>\n",
       "    </tr>\n",
       "  </thead>\n",
       "  <tbody>\n",
       "    <tr>\n",
       "      <th>2021-01-06</th>\n",
       "      <td>179.899994</td>\n",
       "      <td>301.343140</td>\n",
       "    </tr>\n",
       "    <tr>\n",
       "      <th>2021-01-07</th>\n",
       "      <td>179.479996</td>\n",
       "      <td>308.633270</td>\n",
       "    </tr>\n",
       "    <tr>\n",
       "      <th>2021-01-08</th>\n",
       "      <td>173.339996</td>\n",
       "      <td>312.601624</td>\n",
       "    </tr>\n",
       "    <tr>\n",
       "      <th>2021-01-11</th>\n",
       "      <td>173.000000</td>\n",
       "      <td>308.084503</td>\n",
       "    </tr>\n",
       "    <tr>\n",
       "      <th>2021-01-12</th>\n",
       "      <td>174.119995</td>\n",
       "      <td>307.594574</td>\n",
       "    </tr>\n",
       "  </tbody>\n",
       "</table>\n",
       "</div>"
      ],
      "text/plain": [
       "                   GLD         QQQ\n",
       "Date                              \n",
       "2021-01-06  179.899994  301.343140\n",
       "2021-01-07  179.479996  308.633270\n",
       "2021-01-08  173.339996  312.601624\n",
       "2021-01-11  173.000000  308.084503\n",
       "2021-01-12  174.119995  307.594574"
      ]
     },
     "execution_count": 35,
     "metadata": {},
     "output_type": "execute_result"
    }
   ],
   "source": [
    "mydata.head()"
   ]
  },
  {
   "cell_type": "code",
   "execution_count": 36,
   "id": "ec9ba70e",
   "metadata": {},
   "outputs": [
    {
     "data": {
      "text/html": [
       "<div>\n",
       "<style scoped>\n",
       "    .dataframe tbody tr th:only-of-type {\n",
       "        vertical-align: middle;\n",
       "    }\n",
       "\n",
       "    .dataframe tbody tr th {\n",
       "        vertical-align: top;\n",
       "    }\n",
       "\n",
       "    .dataframe thead th {\n",
       "        text-align: right;\n",
       "    }\n",
       "</style>\n",
       "<table border=\"1\" class=\"dataframe\">\n",
       "  <thead>\n",
       "    <tr style=\"text-align: right;\">\n",
       "      <th></th>\n",
       "      <th>GLD</th>\n",
       "      <th>QQQ</th>\n",
       "    </tr>\n",
       "    <tr>\n",
       "      <th>Date</th>\n",
       "      <th></th>\n",
       "      <th></th>\n",
       "    </tr>\n",
       "  </thead>\n",
       "  <tbody>\n",
       "    <tr>\n",
       "      <th>2024-03-18</th>\n",
       "      <td>200.029999</td>\n",
       "      <td>437.480011</td>\n",
       "    </tr>\n",
       "    <tr>\n",
       "      <th>2024-03-19</th>\n",
       "      <td>199.800003</td>\n",
       "      <td>438.570007</td>\n",
       "    </tr>\n",
       "    <tr>\n",
       "      <th>2024-03-20</th>\n",
       "      <td>202.179993</td>\n",
       "      <td>443.769989</td>\n",
       "    </tr>\n",
       "    <tr>\n",
       "      <th>2024-03-21</th>\n",
       "      <td>201.970001</td>\n",
       "      <td>445.869995</td>\n",
       "    </tr>\n",
       "    <tr>\n",
       "      <th>2024-03-22</th>\n",
       "      <td>200.350006</td>\n",
       "      <td>446.380005</td>\n",
       "    </tr>\n",
       "  </tbody>\n",
       "</table>\n",
       "</div>"
      ],
      "text/plain": [
       "                   GLD         QQQ\n",
       "Date                              \n",
       "2024-03-18  200.029999  437.480011\n",
       "2024-03-19  199.800003  438.570007\n",
       "2024-03-20  202.179993  443.769989\n",
       "2024-03-21  201.970001  445.869995\n",
       "2024-03-22  200.350006  446.380005"
      ]
     },
     "execution_count": 36,
     "metadata": {},
     "output_type": "execute_result"
    }
   ],
   "source": [
    "mydata.tail()"
   ]
  },
  {
   "cell_type": "markdown",
   "id": "548018b5",
   "metadata": {},
   "source": []
  },
  {
   "cell_type": "markdown",
   "id": "098027a1",
   "metadata": {},
   "source": [
    "Annual return"
   ]
  },
  {
   "cell_type": "code",
   "execution_count": 37,
   "id": "3981ff72",
   "metadata": {},
   "outputs": [
    {
     "data": {
      "text/html": [
       "<div>\n",
       "<style scoped>\n",
       "    .dataframe tbody tr th:only-of-type {\n",
       "        vertical-align: middle;\n",
       "    }\n",
       "\n",
       "    .dataframe tbody tr th {\n",
       "        vertical-align: top;\n",
       "    }\n",
       "\n",
       "    .dataframe thead th {\n",
       "        text-align: right;\n",
       "    }\n",
       "</style>\n",
       "<table border=\"1\" class=\"dataframe\">\n",
       "  <thead>\n",
       "    <tr style=\"text-align: right;\">\n",
       "      <th></th>\n",
       "      <th>GLD</th>\n",
       "      <th>QQQ</th>\n",
       "    </tr>\n",
       "    <tr>\n",
       "      <th>Date</th>\n",
       "      <th></th>\n",
       "      <th></th>\n",
       "    </tr>\n",
       "  </thead>\n",
       "  <tbody>\n",
       "    <tr>\n",
       "      <th>2021-01-06</th>\n",
       "      <td>NaN</td>\n",
       "      <td>NaN</td>\n",
       "    </tr>\n",
       "    <tr>\n",
       "      <th>2021-01-07</th>\n",
       "      <td>-0.002335</td>\n",
       "      <td>0.024192</td>\n",
       "    </tr>\n",
       "    <tr>\n",
       "      <th>2021-01-08</th>\n",
       "      <td>-0.034210</td>\n",
       "      <td>0.012858</td>\n",
       "    </tr>\n",
       "    <tr>\n",
       "      <th>2021-01-11</th>\n",
       "      <td>-0.001961</td>\n",
       "      <td>-0.014450</td>\n",
       "    </tr>\n",
       "    <tr>\n",
       "      <th>2021-01-12</th>\n",
       "      <td>0.006474</td>\n",
       "      <td>-0.001590</td>\n",
       "    </tr>\n",
       "    <tr>\n",
       "      <th>...</th>\n",
       "      <td>...</td>\n",
       "      <td>...</td>\n",
       "    </tr>\n",
       "    <tr>\n",
       "      <th>2024-03-18</th>\n",
       "      <td>0.001602</td>\n",
       "      <td>0.009537</td>\n",
       "    </tr>\n",
       "    <tr>\n",
       "      <th>2024-03-19</th>\n",
       "      <td>-0.001150</td>\n",
       "      <td>0.002492</td>\n",
       "    </tr>\n",
       "    <tr>\n",
       "      <th>2024-03-20</th>\n",
       "      <td>0.011912</td>\n",
       "      <td>0.011857</td>\n",
       "    </tr>\n",
       "    <tr>\n",
       "      <th>2024-03-21</th>\n",
       "      <td>-0.001039</td>\n",
       "      <td>0.004732</td>\n",
       "    </tr>\n",
       "    <tr>\n",
       "      <th>2024-03-22</th>\n",
       "      <td>-0.008021</td>\n",
       "      <td>0.001144</td>\n",
       "    </tr>\n",
       "  </tbody>\n",
       "</table>\n",
       "<p>808 rows × 2 columns</p>\n",
       "</div>"
      ],
      "text/plain": [
       "                 GLD       QQQ\n",
       "Date                          \n",
       "2021-01-06       NaN       NaN\n",
       "2021-01-07 -0.002335  0.024192\n",
       "2021-01-08 -0.034210  0.012858\n",
       "2021-01-11 -0.001961 -0.014450\n",
       "2021-01-12  0.006474 -0.001590\n",
       "...              ...       ...\n",
       "2024-03-18  0.001602  0.009537\n",
       "2024-03-19 -0.001150  0.002492\n",
       "2024-03-20  0.011912  0.011857\n",
       "2024-03-21 -0.001039  0.004732\n",
       "2024-03-22 -0.008021  0.001144\n",
       "\n",
       "[808 rows x 2 columns]"
      ]
     },
     "execution_count": 37,
     "metadata": {},
     "output_type": "execute_result"
    }
   ],
   "source": [
    "return_data = (mydata/mydata.shift(1) - 1)\n",
    "return_data"
   ]
  },
  {
   "cell_type": "code",
   "execution_count": 38,
   "id": "1292b4e0",
   "metadata": {},
   "outputs": [
    {
     "data": {
      "text/html": [
       "<div>\n",
       "<style scoped>\n",
       "    .dataframe tbody tr th:only-of-type {\n",
       "        vertical-align: middle;\n",
       "    }\n",
       "\n",
       "    .dataframe tbody tr th {\n",
       "        vertical-align: top;\n",
       "    }\n",
       "\n",
       "    .dataframe thead th {\n",
       "        text-align: right;\n",
       "    }\n",
       "</style>\n",
       "<table border=\"1\" class=\"dataframe\">\n",
       "  <thead>\n",
       "    <tr style=\"text-align: right;\">\n",
       "      <th></th>\n",
       "      <th>GLD</th>\n",
       "      <th>QQQ</th>\n",
       "    </tr>\n",
       "    <tr>\n",
       "      <th>Date</th>\n",
       "      <th></th>\n",
       "      <th></th>\n",
       "    </tr>\n",
       "  </thead>\n",
       "  <tbody>\n",
       "    <tr>\n",
       "      <th>2021-01-06</th>\n",
       "      <td>0.000000</td>\n",
       "      <td>0.000000</td>\n",
       "    </tr>\n",
       "    <tr>\n",
       "      <th>2021-01-07</th>\n",
       "      <td>-0.002335</td>\n",
       "      <td>0.024192</td>\n",
       "    </tr>\n",
       "    <tr>\n",
       "      <th>2021-01-08</th>\n",
       "      <td>-0.034210</td>\n",
       "      <td>0.012858</td>\n",
       "    </tr>\n",
       "    <tr>\n",
       "      <th>2021-01-11</th>\n",
       "      <td>-0.001961</td>\n",
       "      <td>-0.014450</td>\n",
       "    </tr>\n",
       "    <tr>\n",
       "      <th>2021-01-12</th>\n",
       "      <td>0.006474</td>\n",
       "      <td>-0.001590</td>\n",
       "    </tr>\n",
       "    <tr>\n",
       "      <th>...</th>\n",
       "      <td>...</td>\n",
       "      <td>...</td>\n",
       "    </tr>\n",
       "    <tr>\n",
       "      <th>2024-03-18</th>\n",
       "      <td>0.001602</td>\n",
       "      <td>0.009537</td>\n",
       "    </tr>\n",
       "    <tr>\n",
       "      <th>2024-03-19</th>\n",
       "      <td>-0.001150</td>\n",
       "      <td>0.002492</td>\n",
       "    </tr>\n",
       "    <tr>\n",
       "      <th>2024-03-20</th>\n",
       "      <td>0.011912</td>\n",
       "      <td>0.011857</td>\n",
       "    </tr>\n",
       "    <tr>\n",
       "      <th>2024-03-21</th>\n",
       "      <td>-0.001039</td>\n",
       "      <td>0.004732</td>\n",
       "    </tr>\n",
       "    <tr>\n",
       "      <th>2024-03-22</th>\n",
       "      <td>-0.008021</td>\n",
       "      <td>0.001144</td>\n",
       "    </tr>\n",
       "  </tbody>\n",
       "</table>\n",
       "<p>808 rows × 2 columns</p>\n",
       "</div>"
      ],
      "text/plain": [
       "                 GLD       QQQ\n",
       "Date                          \n",
       "2021-01-06  0.000000  0.000000\n",
       "2021-01-07 -0.002335  0.024192\n",
       "2021-01-08 -0.034210  0.012858\n",
       "2021-01-11 -0.001961 -0.014450\n",
       "2021-01-12  0.006474 -0.001590\n",
       "...              ...       ...\n",
       "2024-03-18  0.001602  0.009537\n",
       "2024-03-19 -0.001150  0.002492\n",
       "2024-03-20  0.011912  0.011857\n",
       "2024-03-21 -0.001039  0.004732\n",
       "2024-03-22 -0.008021  0.001144\n",
       "\n",
       "[808 rows x 2 columns]"
      ]
     },
     "execution_count": 38,
     "metadata": {},
     "output_type": "execute_result"
    }
   ],
   "source": [
    "return_data[np.isnan(return_data)] = 0\n",
    "return_data"
   ]
  },
  {
   "cell_type": "code",
   "execution_count": 39,
   "id": "35b1c91a",
   "metadata": {},
   "outputs": [
    {
     "name": "stdout",
     "output_type": "stream",
     "text": [
      "averge return on GLD 0.00017124527577208257\n",
      "variance on GLD 7.605549263111226e-05\n",
      "averge return on QQQ 0.0005941613567463099\n",
      "variance on QQQ 0.00021559432657546748\n"
     ]
    }
   ],
   "source": [
    "avg_VTI = return_data['%s'%tickers[0]].mean()\n",
    "print('averge return on %s'%tickers[0], avg_VTI)\n",
    "std_VTI = return_data['%s'%tickers[0]].var()\n",
    "print('variance on %s'%tickers[0], std_VTI)\n",
    "avg_QQQ = return_data['%s'%tickers[1]].mean()\n",
    "print('averge return on %s'%tickers[1], avg_QQQ)\n",
    "std_QQQ = return_data['%s'%tickers[1]].var()\n",
    "print('variance on %s'%tickers[1], std_QQQ)"
   ]
  },
  {
   "cell_type": "code",
   "execution_count": 40,
   "id": "7d3706d9",
   "metadata": {},
   "outputs": [
    {
     "data": {
      "text/plain": [
       "GLD    0.000171\n",
       "QQQ    0.000594\n",
       "dtype: float64"
      ]
     },
     "execution_count": 40,
     "metadata": {},
     "output_type": "execute_result"
    }
   ],
   "source": [
    "avg = (return_data).mean()\n",
    "avg"
   ]
  },
  {
   "cell_type": "code",
   "execution_count": 41,
   "id": "4540570a",
   "metadata": {},
   "outputs": [
    {
     "data": {
      "text/plain": [
       "GLD    0.000076\n",
       "QQQ    0.000216\n",
       "dtype: float64"
      ]
     },
     "execution_count": 41,
     "metadata": {},
     "output_type": "execute_result"
    }
   ],
   "source": [
    "std = (return_data).var()\n",
    "std"
   ]
  },
  {
   "cell_type": "markdown",
   "id": "c4e3adb0",
   "metadata": {},
   "source": [
    "covariance matrix"
   ]
  },
  {
   "cell_type": "code",
   "execution_count": 42,
   "id": "24507e5b",
   "metadata": {},
   "outputs": [
    {
     "data": {
      "text/html": [
       "<div>\n",
       "<style scoped>\n",
       "    .dataframe tbody tr th:only-of-type {\n",
       "        vertical-align: middle;\n",
       "    }\n",
       "\n",
       "    .dataframe tbody tr th {\n",
       "        vertical-align: top;\n",
       "    }\n",
       "\n",
       "    .dataframe thead th {\n",
       "        text-align: right;\n",
       "    }\n",
       "</style>\n",
       "<table border=\"1\" class=\"dataframe\">\n",
       "  <thead>\n",
       "    <tr style=\"text-align: right;\">\n",
       "      <th></th>\n",
       "      <th>GLD</th>\n",
       "      <th>QQQ</th>\n",
       "    </tr>\n",
       "  </thead>\n",
       "  <tbody>\n",
       "    <tr>\n",
       "      <th>GLD</th>\n",
       "      <td>0.000076</td>\n",
       "      <td>0.000016</td>\n",
       "    </tr>\n",
       "    <tr>\n",
       "      <th>QQQ</th>\n",
       "      <td>0.000016</td>\n",
       "      <td>0.000216</td>\n",
       "    </tr>\n",
       "  </tbody>\n",
       "</table>\n",
       "</div>"
      ],
      "text/plain": [
       "          GLD       QQQ\n",
       "GLD  0.000076  0.000016\n",
       "QQQ  0.000016  0.000216"
      ]
     },
     "execution_count": 42,
     "metadata": {},
     "output_type": "execute_result"
    }
   ],
   "source": [
    "return_data.cov()"
   ]
  },
  {
   "cell_type": "code",
   "execution_count": 43,
   "id": "0c59e283",
   "metadata": {},
   "outputs": [
    {
     "data": {
      "text/html": [
       "<div>\n",
       "<style scoped>\n",
       "    .dataframe tbody tr th:only-of-type {\n",
       "        vertical-align: middle;\n",
       "    }\n",
       "\n",
       "    .dataframe tbody tr th {\n",
       "        vertical-align: top;\n",
       "    }\n",
       "\n",
       "    .dataframe thead th {\n",
       "        text-align: right;\n",
       "    }\n",
       "</style>\n",
       "<table border=\"1\" class=\"dataframe\">\n",
       "  <thead>\n",
       "    <tr style=\"text-align: right;\">\n",
       "      <th></th>\n",
       "      <th>GLD</th>\n",
       "      <th>QQQ</th>\n",
       "    </tr>\n",
       "  </thead>\n",
       "  <tbody>\n",
       "    <tr>\n",
       "      <th>GLD</th>\n",
       "      <td>1.000000</td>\n",
       "      <td>0.121696</td>\n",
       "    </tr>\n",
       "    <tr>\n",
       "      <th>QQQ</th>\n",
       "      <td>0.121696</td>\n",
       "      <td>1.000000</td>\n",
       "    </tr>\n",
       "  </tbody>\n",
       "</table>\n",
       "</div>"
      ],
      "text/plain": [
       "          GLD       QQQ\n",
       "GLD  1.000000  0.121696\n",
       "QQQ  0.121696  1.000000"
      ]
     },
     "execution_count": 43,
     "metadata": {},
     "output_type": "execute_result"
    }
   ],
   "source": [
    "return_data.corr()"
   ]
  },
  {
   "cell_type": "markdown",
   "id": "62b6b2e2",
   "metadata": {},
   "source": [
    "Equal weighting scheme:"
   ]
  },
  {
   "cell_type": "code",
   "execution_count": 44,
   "id": "1e2b2dd5",
   "metadata": {},
   "outputs": [],
   "source": [
    "weights = np.array([0.5,0.5])"
   ]
  },
  {
   "cell_type": "markdown",
   "id": "f3739707",
   "metadata": {},
   "source": [
    "portfolio variance"
   ]
  },
  {
   "cell_type": "code",
   "execution_count": 45,
   "id": "47ac67cb",
   "metadata": {},
   "outputs": [
    {
     "data": {
      "text/plain": [
       "0.020176030021617334"
      ]
     },
     "execution_count": 45,
     "metadata": {},
     "output_type": "execute_result"
    }
   ],
   "source": [
    "portfolio_var = np.dot(weights.T,np.dot(return_data.cov()*250, weights))\n",
    "portfolio_var"
   ]
  },
  {
   "cell_type": "markdown",
   "id": "e5f0561d",
   "metadata": {},
   "source": [
    "portfolio volatility"
   ]
  },
  {
   "cell_type": "code",
   "execution_count": 46,
   "id": "dad3635a",
   "metadata": {},
   "outputs": [
    {
     "data": {
      "text/plain": [
       "0.14204235291495748"
      ]
     },
     "execution_count": 46,
     "metadata": {},
     "output_type": "execute_result"
    }
   ],
   "source": [
    "portfolio_vol = np.dot(weights.T,np.dot(return_data.cov()*250, weights)) ** 0.5\n",
    "portfolio_vol"
   ]
  },
  {
   "cell_type": "code",
   "execution_count": 47,
   "id": "c6b0274f",
   "metadata": {},
   "outputs": [
    {
     "name": "stdout",
     "output_type": "stream",
     "text": [
      "portfolio volatility:  14.204235291495749\n"
     ]
    }
   ],
   "source": [
    "print('portfolio volatility: ',100*portfolio_vol)"
   ]
  }
 ],
 "metadata": {
  "kernelspec": {
   "display_name": "Python 3 (ipykernel)",
   "language": "python",
   "name": "python3"
  },
  "language_info": {
   "codemirror_mode": {
    "name": "ipython",
    "version": 3
   },
   "file_extension": ".py",
   "mimetype": "text/x-python",
   "name": "python",
   "nbconvert_exporter": "python",
   "pygments_lexer": "ipython3",
   "version": "3.9.13"
  }
 },
 "nbformat": 4,
 "nbformat_minor": 5
}
