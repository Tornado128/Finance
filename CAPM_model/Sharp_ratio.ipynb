{
 "cells": [
  {
   "cell_type": "markdown",
   "id": "47aa8485",
   "metadata": {},
   "source": [
    "A fund manager may claim that it has a higher retrun; however, this may come at a cost of a riskier portfolio"
   ]
  },
  {
   "cell_type": "code",
   "execution_count": 1,
   "id": "51ed299f",
   "metadata": {},
   "outputs": [],
   "source": [
    "import pandas as pd\n",
    "import numpy as np\n",
    "from pandas_datareader import data as pdr\n",
    "import yfinance as yfin\n",
    "import matplotlib.pyplot as plt"
   ]
  },
  {
   "cell_type": "code",
   "execution_count": 2,
   "id": "34b121ee",
   "metadata": {},
   "outputs": [
    {
     "name": "stderr",
     "output_type": "stream",
     "text": [
      "[*********************100%%**********************]  1 of 1 completed\n",
      "[*********************100%%**********************]  1 of 1 completed\n"
     ]
    }
   ],
   "source": [
    "tickers = ['PG','^GSPC']\n",
    "yfin.pdr_override() #  you ensure compatibility with the Yahoo Finance API changes and possibly improve the reliability and functionality of data retrieval from Yahoo Finance within your code\n",
    "mydata = pd.DataFrame()\n",
    "for t in tickers:\n",
    "    mydata[t] = pdr.get_data_yahoo(t, start=\"2019-02-02\", end=\"2024-02-02\")['Adj Close']"
   ]
  },
  {
   "cell_type": "code",
   "execution_count": 3,
   "id": "8b73e105",
   "metadata": {},
   "outputs": [
    {
     "data": {
      "text/html": [
       "<div>\n",
       "<style scoped>\n",
       "    .dataframe tbody tr th:only-of-type {\n",
       "        vertical-align: middle;\n",
       "    }\n",
       "\n",
       "    .dataframe tbody tr th {\n",
       "        vertical-align: top;\n",
       "    }\n",
       "\n",
       "    .dataframe thead th {\n",
       "        text-align: right;\n",
       "    }\n",
       "</style>\n",
       "<table border=\"1\" class=\"dataframe\">\n",
       "  <thead>\n",
       "    <tr style=\"text-align: right;\">\n",
       "      <th></th>\n",
       "      <th>PG</th>\n",
       "      <th>^GSPC</th>\n",
       "    </tr>\n",
       "    <tr>\n",
       "      <th>Date</th>\n",
       "      <th></th>\n",
       "      <th></th>\n",
       "    </tr>\n",
       "  </thead>\n",
       "  <tbody>\n",
       "    <tr>\n",
       "      <th>2019-02-04</th>\n",
       "      <td>NaN</td>\n",
       "      <td>NaN</td>\n",
       "    </tr>\n",
       "    <tr>\n",
       "      <th>2019-02-05</th>\n",
       "      <td>-0.006018</td>\n",
       "      <td>0.004708</td>\n",
       "    </tr>\n",
       "    <tr>\n",
       "      <th>2019-02-06</th>\n",
       "      <td>0.004926</td>\n",
       "      <td>-0.002224</td>\n",
       "    </tr>\n",
       "    <tr>\n",
       "      <th>2019-02-07</th>\n",
       "      <td>-0.007966</td>\n",
       "      <td>-0.009357</td>\n",
       "    </tr>\n",
       "    <tr>\n",
       "      <th>2019-02-08</th>\n",
       "      <td>0.005868</td>\n",
       "      <td>0.000676</td>\n",
       "    </tr>\n",
       "  </tbody>\n",
       "</table>\n",
       "</div>"
      ],
      "text/plain": [
       "                  PG     ^GSPC\n",
       "Date                          \n",
       "2019-02-04       NaN       NaN\n",
       "2019-02-05 -0.006018  0.004708\n",
       "2019-02-06  0.004926 -0.002224\n",
       "2019-02-07 -0.007966 -0.009357\n",
       "2019-02-08  0.005868  0.000676"
      ]
     },
     "execution_count": 3,
     "metadata": {},
     "output_type": "execute_result"
    }
   ],
   "source": [
    "return_data = (mydata/mydata.shift(1) - 1)\n",
    "return_data.head()"
   ]
  },
  {
   "cell_type": "code",
   "execution_count": 4,
   "id": "72fc2411",
   "metadata": {},
   "outputs": [
    {
     "data": {
      "text/html": [
       "<div>\n",
       "<style scoped>\n",
       "    .dataframe tbody tr th:only-of-type {\n",
       "        vertical-align: middle;\n",
       "    }\n",
       "\n",
       "    .dataframe tbody tr th {\n",
       "        vertical-align: top;\n",
       "    }\n",
       "\n",
       "    .dataframe thead th {\n",
       "        text-align: right;\n",
       "    }\n",
       "</style>\n",
       "<table border=\"1\" class=\"dataframe\">\n",
       "  <thead>\n",
       "    <tr style=\"text-align: right;\">\n",
       "      <th></th>\n",
       "      <th>PG</th>\n",
       "      <th>^GSPC</th>\n",
       "    </tr>\n",
       "    <tr>\n",
       "      <th>Date</th>\n",
       "      <th></th>\n",
       "      <th></th>\n",
       "    </tr>\n",
       "  </thead>\n",
       "  <tbody>\n",
       "    <tr>\n",
       "      <th>2019-02-04</th>\n",
       "      <td>0.000000</td>\n",
       "      <td>0.000000</td>\n",
       "    </tr>\n",
       "    <tr>\n",
       "      <th>2019-02-05</th>\n",
       "      <td>-0.006018</td>\n",
       "      <td>0.004708</td>\n",
       "    </tr>\n",
       "    <tr>\n",
       "      <th>2019-02-06</th>\n",
       "      <td>0.004926</td>\n",
       "      <td>-0.002224</td>\n",
       "    </tr>\n",
       "    <tr>\n",
       "      <th>2019-02-07</th>\n",
       "      <td>-0.007966</td>\n",
       "      <td>-0.009357</td>\n",
       "    </tr>\n",
       "    <tr>\n",
       "      <th>2019-02-08</th>\n",
       "      <td>0.005868</td>\n",
       "      <td>0.000676</td>\n",
       "    </tr>\n",
       "  </tbody>\n",
       "</table>\n",
       "</div>"
      ],
      "text/plain": [
       "                  PG     ^GSPC\n",
       "Date                          \n",
       "2019-02-04  0.000000  0.000000\n",
       "2019-02-05 -0.006018  0.004708\n",
       "2019-02-06  0.004926 -0.002224\n",
       "2019-02-07 -0.007966 -0.009357\n",
       "2019-02-08  0.005868  0.000676"
      ]
     },
     "execution_count": 4,
     "metadata": {},
     "output_type": "execute_result"
    }
   ],
   "source": [
    "return_data[np.isnan(return_data)] = 0\n",
    "return_data.head()"
   ]
  },
  {
   "cell_type": "code",
   "execution_count": 5,
   "id": "c6219157",
   "metadata": {},
   "outputs": [],
   "source": [
    "simple_return_d = mydata/mydata.shift(1)-1"
   ]
  },
  {
   "cell_type": "code",
   "execution_count": 6,
   "id": "c88ffb3f",
   "metadata": {},
   "outputs": [
    {
     "name": "stdout",
     "output_type": "stream",
     "text": [
      "variance of daily return:\n",
      " PG       0.000177\n",
      "^GSPC    0.000179\n",
      "dtype: float64\n"
     ]
    }
   ],
   "source": [
    "variance = (simple_return_d).var()\n",
    "print('variance of daily return:\\n',variance)"
   ]
  },
  {
   "cell_type": "code",
   "execution_count": 7,
   "id": "a56f4832",
   "metadata": {},
   "outputs": [
    {
     "name": "stdout",
     "output_type": "stream",
     "text": [
      "covariance of daily return:\n",
      "              PG     ^GSPC\n",
      "PG     0.000177  0.000105\n",
      "^GSPC  0.000105  0.000179\n"
     ]
    }
   ],
   "source": [
    "covar = (simple_return_d).cov()\n",
    "print('covariance of daily return:\\n',covar)"
   ]
  },
  {
   "cell_type": "code",
   "execution_count": 8,
   "id": "14494822",
   "metadata": {},
   "outputs": [
    {
     "name": "stdout",
     "output_type": "stream",
     "text": [
      "0.584273366770673\n"
     ]
    }
   ],
   "source": [
    "Beta = covar.iloc[0,1]/variance.iloc[1]\n",
    "print(Beta)"
   ]
  },
  {
   "cell_type": "markdown",
   "id": "27baedf4",
   "metadata": {},
   "source": [
    "$$\n",
    "  return_{expected} = (10 Year US Governemnt Bond Yield) + Beta * Market Risk Permimu\n",
    "$$\n",
    "\n",
    "10 Year US Governemnt Bond Yield = 2.5%\n",
    "\n",
    "Market risk permimu = 5%"
   ]
  },
  {
   "cell_type": "code",
   "execution_count": 9,
   "id": "c46fd69e",
   "metadata": {},
   "outputs": [
    {
     "data": {
      "text/plain": [
       "0.05421366833853365"
      ]
     },
     "execution_count": 9,
     "metadata": {},
     "output_type": "execute_result"
    }
   ],
   "source": [
    "r_expected = 0.025 + Beta * 0.05\n",
    "r_expected"
   ]
  },
  {
   "cell_type": "markdown",
   "id": "ce888972",
   "metadata": {},
   "source": [
    "# sharp ratio"
   ]
  },
  {
   "cell_type": "code",
   "execution_count": 10,
   "id": "710e92fa",
   "metadata": {},
   "outputs": [
    {
     "data": {
      "text/plain": [
       "0.1389504093922945"
      ]
     },
     "execution_count": 10,
     "metadata": {},
     "output_type": "execute_result"
    }
   ],
   "source": [
    "sharp_ratio = (r_expected - 0.025)/(simple_return_d['PG'].std()* 250 ** 0.5)\n",
    "sharp_ratio"
   ]
  },
  {
   "cell_type": "code",
   "execution_count": null,
   "id": "6453433c",
   "metadata": {},
   "outputs": [],
   "source": []
  }
 ],
 "metadata": {
  "kernelspec": {
   "display_name": "Python 3 (ipykernel)",
   "language": "python",
   "name": "python3"
  },
  "language_info": {
   "codemirror_mode": {
    "name": "ipython",
    "version": 3
   },
   "file_extension": ".py",
   "mimetype": "text/x-python",
   "name": "python",
   "nbconvert_exporter": "python",
   "pygments_lexer": "ipython3",
   "version": "3.9.13"
  }
 },
 "nbformat": 4,
 "nbformat_minor": 5
}
