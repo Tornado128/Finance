{
 "cells": [
  {
   "cell_type": "markdown",
   "id": "47aa8485",
   "metadata": {},
   "source": [
    "A fund manager may claim that it has a higher retrun; however, this may come at a cost of a riskier portfolio"
   ]
  },
  {
   "cell_type": "code",
   "execution_count": 1,
   "id": "51ed299f",
   "metadata": {},
   "outputs": [],
   "source": [
    "import pandas as pd\n",
    "import numpy as np\n",
    "from pandas_datareader import data as pdr\n",
    "import yfinance as yfin\n",
    "import matplotlib.pyplot as plt"
   ]
  },
  {
   "cell_type": "code",
   "execution_count": 2,
   "id": "34b121ee",
   "metadata": {},
   "outputs": [
    {
     "name": "stderr",
     "output_type": "stream",
     "text": [
      "[*********************100%%**********************]  1 of 1 completed\n",
      "[*********************100%%**********************]  1 of 1 completed\n"
     ]
    }
   ],
   "source": [
    "tickers = ['PG','^GSPC']\n",
    "yfin.pdr_override() #  you ensure compatibility with the Yahoo Finance API changes and possibly improve the reliability and functionality of data retrieval from Yahoo Finance within your code\n",
    "mydata = pd.DataFrame()\n",
    "for t in tickers:\n",
    "    mydata[t] = pdr.get_data_yahoo(t, start=\"2012-1-1\", end=\"2016-12-30\")['Adj Close']"
   ]
  },
  {
   "cell_type": "code",
   "execution_count": 3,
   "id": "8b73e105",
   "metadata": {},
   "outputs": [
    {
     "data": {
      "text/html": [
       "<div>\n",
       "<style scoped>\n",
       "    .dataframe tbody tr th:only-of-type {\n",
       "        vertical-align: middle;\n",
       "    }\n",
       "\n",
       "    .dataframe tbody tr th {\n",
       "        vertical-align: top;\n",
       "    }\n",
       "\n",
       "    .dataframe thead th {\n",
       "        text-align: right;\n",
       "    }\n",
       "</style>\n",
       "<table border=\"1\" class=\"dataframe\">\n",
       "  <thead>\n",
       "    <tr style=\"text-align: right;\">\n",
       "      <th></th>\n",
       "      <th>PG</th>\n",
       "      <th>^GSPC</th>\n",
       "    </tr>\n",
       "    <tr>\n",
       "      <th>Date</th>\n",
       "      <th></th>\n",
       "      <th></th>\n",
       "    </tr>\n",
       "  </thead>\n",
       "  <tbody>\n",
       "    <tr>\n",
       "      <th>2012-01-03</th>\n",
       "      <td>NaN</td>\n",
       "      <td>NaN</td>\n",
       "    </tr>\n",
       "    <tr>\n",
       "      <th>2012-01-04</th>\n",
       "      <td>-0.000449</td>\n",
       "      <td>0.000188</td>\n",
       "    </tr>\n",
       "    <tr>\n",
       "      <th>2012-01-05</th>\n",
       "      <td>-0.004192</td>\n",
       "      <td>0.002944</td>\n",
       "    </tr>\n",
       "    <tr>\n",
       "      <th>2012-01-06</th>\n",
       "      <td>-0.002405</td>\n",
       "      <td>-0.002537</td>\n",
       "    </tr>\n",
       "    <tr>\n",
       "      <th>2012-01-09</th>\n",
       "      <td>0.004220</td>\n",
       "      <td>0.002262</td>\n",
       "    </tr>\n",
       "  </tbody>\n",
       "</table>\n",
       "</div>"
      ],
      "text/plain": [
       "                  PG     ^GSPC\n",
       "Date                          \n",
       "2012-01-03       NaN       NaN\n",
       "2012-01-04 -0.000449  0.000188\n",
       "2012-01-05 -0.004192  0.002944\n",
       "2012-01-06 -0.002405 -0.002537\n",
       "2012-01-09  0.004220  0.002262"
      ]
     },
     "execution_count": 3,
     "metadata": {},
     "output_type": "execute_result"
    }
   ],
   "source": [
    "return_data = (mydata/mydata.shift(1) - 1)\n",
    "return_data.head()"
   ]
  },
  {
   "cell_type": "code",
   "execution_count": 4,
   "id": "72fc2411",
   "metadata": {},
   "outputs": [
    {
     "data": {
      "text/html": [
       "<div>\n",
       "<style scoped>\n",
       "    .dataframe tbody tr th:only-of-type {\n",
       "        vertical-align: middle;\n",
       "    }\n",
       "\n",
       "    .dataframe tbody tr th {\n",
       "        vertical-align: top;\n",
       "    }\n",
       "\n",
       "    .dataframe thead th {\n",
       "        text-align: right;\n",
       "    }\n",
       "</style>\n",
       "<table border=\"1\" class=\"dataframe\">\n",
       "  <thead>\n",
       "    <tr style=\"text-align: right;\">\n",
       "      <th></th>\n",
       "      <th>PG</th>\n",
       "      <th>^GSPC</th>\n",
       "    </tr>\n",
       "    <tr>\n",
       "      <th>Date</th>\n",
       "      <th></th>\n",
       "      <th></th>\n",
       "    </tr>\n",
       "  </thead>\n",
       "  <tbody>\n",
       "    <tr>\n",
       "      <th>2012-01-03</th>\n",
       "      <td>0.000000</td>\n",
       "      <td>0.000000</td>\n",
       "    </tr>\n",
       "    <tr>\n",
       "      <th>2012-01-04</th>\n",
       "      <td>-0.000449</td>\n",
       "      <td>0.000188</td>\n",
       "    </tr>\n",
       "    <tr>\n",
       "      <th>2012-01-05</th>\n",
       "      <td>-0.004192</td>\n",
       "      <td>0.002944</td>\n",
       "    </tr>\n",
       "    <tr>\n",
       "      <th>2012-01-06</th>\n",
       "      <td>-0.002405</td>\n",
       "      <td>-0.002537</td>\n",
       "    </tr>\n",
       "    <tr>\n",
       "      <th>2012-01-09</th>\n",
       "      <td>0.004220</td>\n",
       "      <td>0.002262</td>\n",
       "    </tr>\n",
       "  </tbody>\n",
       "</table>\n",
       "</div>"
      ],
      "text/plain": [
       "                  PG     ^GSPC\n",
       "Date                          \n",
       "2012-01-03  0.000000  0.000000\n",
       "2012-01-04 -0.000449  0.000188\n",
       "2012-01-05 -0.004192  0.002944\n",
       "2012-01-06 -0.002405 -0.002537\n",
       "2012-01-09  0.004220  0.002262"
      ]
     },
     "execution_count": 4,
     "metadata": {},
     "output_type": "execute_result"
    }
   ],
   "source": [
    "return_data[np.isnan(return_data)] = 0\n",
    "return_data.head()"
   ]
  },
  {
   "cell_type": "code",
   "execution_count": 5,
   "id": "c6219157",
   "metadata": {},
   "outputs": [],
   "source": [
    "simple_return_d = mydata/mydata.shift(1)-1"
   ]
  },
  {
   "cell_type": "code",
   "execution_count": 6,
   "id": "20636243",
   "metadata": {},
   "outputs": [],
   "source": [
    "simple_return_y = simple_return_d * 250"
   ]
  },
  {
   "cell_type": "code",
   "execution_count": 7,
   "id": "c88ffb3f",
   "metadata": {},
   "outputs": [
    {
     "name": "stdout",
     "output_type": "stream",
     "text": [
      "variance of annual return:\n",
      " PG       5.101220\n",
      "^GSPC    4.086925\n",
      "dtype: float64\n"
     ]
    }
   ],
   "source": [
    "variance = (simple_return_y).var()\n",
    "print('variance of annual return:\\n',variance)"
   ]
  },
  {
   "cell_type": "code",
   "execution_count": 8,
   "id": "a56f4832",
   "metadata": {},
   "outputs": [
    {
     "name": "stdout",
     "output_type": "stream",
     "text": [
      "covariance of annual return:\n",
      "              PG     ^GSPC\n",
      "PG     5.101220  2.519109\n",
      "^GSPC  2.519109  4.086925\n"
     ]
    }
   ],
   "source": [
    "covar = (simple_return_y).cov()\n",
    "print('covariance of annual return:\\n',covar)"
   ]
  },
  {
   "cell_type": "code",
   "execution_count": 9,
   "id": "14494822",
   "metadata": {},
   "outputs": [
    {
     "name": "stdout",
     "output_type": "stream",
     "text": [
      "0.6163824317875316\n"
     ]
    }
   ],
   "source": [
    "Beta = covar.iloc[0,1]/variance.iloc[1]\n",
    "print(Beta)"
   ]
  },
  {
   "cell_type": "markdown",
   "id": "27baedf4",
   "metadata": {},
   "source": [
    "$$\n",
    "  return_{expected} = (10 Year US Governemnt Bond Yield) + Beta * Market Risk Permimu\n",
    "$$\n",
    "\n",
    "10 Year US Governemnt Bond Yield = 2.5%\n",
    "\n",
    "Market risk permimu = 5%"
   ]
  },
  {
   "cell_type": "code",
   "execution_count": 10,
   "id": "c46fd69e",
   "metadata": {},
   "outputs": [
    {
     "data": {
      "text/plain": [
       "0.05581912158937658"
      ]
     },
     "execution_count": 10,
     "metadata": {},
     "output_type": "execute_result"
    }
   ],
   "source": [
    "r_expected = 0.025 + Beta * 0.05\n",
    "r_expected"
   ]
  },
  {
   "cell_type": "markdown",
   "id": "ce888972",
   "metadata": {},
   "source": [
    "# sharp ratio"
   ]
  },
  {
   "cell_type": "code",
   "execution_count": 19,
   "id": "710e92fa",
   "metadata": {},
   "outputs": [
    {
     "data": {
      "text/plain": [
       "0.2157512146850882"
      ]
     },
     "execution_count": 19,
     "metadata": {},
     "output_type": "execute_result"
    }
   ],
   "source": [
    "sharp_ratio = (r_expected - 0.025)/(simple_return_d['PG'].std()* 250 ** 0.5)\n",
    "sharp_ratio"
   ]
  }
 ],
 "metadata": {
  "kernelspec": {
   "display_name": "Python 3 (ipykernel)",
   "language": "python",
   "name": "python3"
  },
  "language_info": {
   "codemirror_mode": {
    "name": "ipython",
    "version": 3
   },
   "file_extension": ".py",
   "mimetype": "text/x-python",
   "name": "python",
   "nbconvert_exporter": "python",
   "pygments_lexer": "ipython3",
   "version": "3.9.13"
  }
 },
 "nbformat": 4,
 "nbformat_minor": 5
}
