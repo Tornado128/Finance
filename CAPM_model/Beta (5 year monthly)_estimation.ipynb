{
 "cells": [
  {
   "cell_type": "markdown",
   "id": "e61869fb",
   "metadata": {},
   "source": [
    "# The goal in this script is to estimate beta (5 year: monthly)"
   ]
  },
  {
   "cell_type": "code",
   "execution_count": 1,
   "id": "b31b4bd8",
   "metadata": {},
   "outputs": [],
   "source": [
    "import pandas as pd\n",
    "import numpy as np\n",
    "from pandas_datareader import data as pdr\n",
    "import yfinance as yfin\n",
    "import matplotlib.pyplot as plt"
   ]
  },
  {
   "cell_type": "markdown",
   "id": "94a48927",
   "metadata": {},
   "source": [
    "downloding monthly data by adding monthly interval"
   ]
  },
  {
   "cell_type": "code",
   "execution_count": 2,
   "id": "50a93e50",
   "metadata": {},
   "outputs": [
    {
     "name": "stderr",
     "output_type": "stream",
     "text": [
      "[*********************100%%**********************]  1 of 1 completed\n",
      "[*********************100%%**********************]  1 of 1 completed\n"
     ]
    }
   ],
   "source": [
    "tickers = ['MSFT','^GSPC']\n",
    "yfin.pdr_override() #  you ensure compatibility with the Yahoo Finance API changes and possibly improve the reliability and functionality of data retrieval from Yahoo Finance within your code\n",
    "mydata = pd.DataFrame()\n",
    "for t in tickers:\n",
    "    mydata[t] = pdr.get_data_yahoo(t, start=\"2019-3-30\", end=\"2024-3-30\",interval='1mo')['Adj Close']"
   ]
  },
  {
   "cell_type": "code",
   "execution_count": 3,
   "id": "26e76741",
   "metadata": {},
   "outputs": [
    {
     "data": {
      "text/html": [
       "<div>\n",
       "<style scoped>\n",
       "    .dataframe tbody tr th:only-of-type {\n",
       "        vertical-align: middle;\n",
       "    }\n",
       "\n",
       "    .dataframe tbody tr th {\n",
       "        vertical-align: top;\n",
       "    }\n",
       "\n",
       "    .dataframe thead th {\n",
       "        text-align: right;\n",
       "    }\n",
       "</style>\n",
       "<table border=\"1\" class=\"dataframe\">\n",
       "  <thead>\n",
       "    <tr style=\"text-align: right;\">\n",
       "      <th></th>\n",
       "      <th>MSFT</th>\n",
       "      <th>^GSPC</th>\n",
       "    </tr>\n",
       "    <tr>\n",
       "      <th>Date</th>\n",
       "      <th></th>\n",
       "      <th></th>\n",
       "    </tr>\n",
       "  </thead>\n",
       "  <tbody>\n",
       "    <tr>\n",
       "      <th>2019-04-01</th>\n",
       "      <td>NaN</td>\n",
       "      <td>NaN</td>\n",
       "    </tr>\n",
       "    <tr>\n",
       "      <th>2019-05-01</th>\n",
       "      <td>-0.635835</td>\n",
       "      <td>-0.789333</td>\n",
       "    </tr>\n",
       "    <tr>\n",
       "      <th>2019-06-01</th>\n",
       "      <td>1.045522</td>\n",
       "      <td>0.827162</td>\n",
       "    </tr>\n",
       "    <tr>\n",
       "      <th>2019-07-01</th>\n",
       "      <td>0.206931</td>\n",
       "      <td>0.157538</td>\n",
       "    </tr>\n",
       "    <tr>\n",
       "      <th>2019-08-01</th>\n",
       "      <td>0.140017</td>\n",
       "      <td>-0.217100</td>\n",
       "    </tr>\n",
       "  </tbody>\n",
       "</table>\n",
       "</div>"
      ],
      "text/plain": [
       "                MSFT     ^GSPC\n",
       "Date                          \n",
       "2019-04-01       NaN       NaN\n",
       "2019-05-01 -0.635835 -0.789333\n",
       "2019-06-01  1.045522  0.827162\n",
       "2019-07-01  0.206931  0.157538\n",
       "2019-08-01  0.140017 -0.217100"
      ]
     },
     "execution_count": 3,
     "metadata": {},
     "output_type": "execute_result"
    }
   ],
   "source": [
    "return_data = (mydata/mydata.shift(1) - 1)*12\n",
    "return_data.head()"
   ]
  },
  {
   "cell_type": "code",
   "execution_count": 4,
   "id": "8770c5ba",
   "metadata": {},
   "outputs": [
    {
     "data": {
      "text/html": [
       "<div>\n",
       "<style scoped>\n",
       "    .dataframe tbody tr th:only-of-type {\n",
       "        vertical-align: middle;\n",
       "    }\n",
       "\n",
       "    .dataframe tbody tr th {\n",
       "        vertical-align: top;\n",
       "    }\n",
       "\n",
       "    .dataframe thead th {\n",
       "        text-align: right;\n",
       "    }\n",
       "</style>\n",
       "<table border=\"1\" class=\"dataframe\">\n",
       "  <thead>\n",
       "    <tr style=\"text-align: right;\">\n",
       "      <th></th>\n",
       "      <th>MSFT</th>\n",
       "      <th>^GSPC</th>\n",
       "    </tr>\n",
       "    <tr>\n",
       "      <th>Date</th>\n",
       "      <th></th>\n",
       "      <th></th>\n",
       "    </tr>\n",
       "  </thead>\n",
       "  <tbody>\n",
       "    <tr>\n",
       "      <th>2019-04-01</th>\n",
       "      <td>0.000000</td>\n",
       "      <td>0.000000</td>\n",
       "    </tr>\n",
       "    <tr>\n",
       "      <th>2019-05-01</th>\n",
       "      <td>-0.635835</td>\n",
       "      <td>-0.789333</td>\n",
       "    </tr>\n",
       "    <tr>\n",
       "      <th>2019-06-01</th>\n",
       "      <td>1.045522</td>\n",
       "      <td>0.827162</td>\n",
       "    </tr>\n",
       "    <tr>\n",
       "      <th>2019-07-01</th>\n",
       "      <td>0.206931</td>\n",
       "      <td>0.157538</td>\n",
       "    </tr>\n",
       "    <tr>\n",
       "      <th>2019-08-01</th>\n",
       "      <td>0.140017</td>\n",
       "      <td>-0.217100</td>\n",
       "    </tr>\n",
       "  </tbody>\n",
       "</table>\n",
       "</div>"
      ],
      "text/plain": [
       "                MSFT     ^GSPC\n",
       "Date                          \n",
       "2019-04-01  0.000000  0.000000\n",
       "2019-05-01 -0.635835 -0.789333\n",
       "2019-06-01  1.045522  0.827162\n",
       "2019-07-01  0.206931  0.157538\n",
       "2019-08-01  0.140017 -0.217100"
      ]
     },
     "execution_count": 4,
     "metadata": {},
     "output_type": "execute_result"
    }
   ],
   "source": [
    "return_data[np.isnan(return_data)] = 0\n",
    "return_data.head()"
   ]
  },
  {
   "cell_type": "code",
   "execution_count": 5,
   "id": "a7271480",
   "metadata": {},
   "outputs": [],
   "source": [
    "simple_return_m = mydata/mydata.shift(1)-1"
   ]
  },
  {
   "cell_type": "code",
   "execution_count": 6,
   "id": "5a13cfcd",
   "metadata": {},
   "outputs": [],
   "source": [
    "simple_return_y = simple_return_m * 12"
   ]
  },
  {
   "cell_type": "code",
   "execution_count": 7,
   "id": "7011f62c",
   "metadata": {},
   "outputs": [
    {
     "name": "stdout",
     "output_type": "stream",
     "text": [
      "variance of annual return:\n",
      " MSFT     0.567234\n",
      "^GSPC    0.409387\n",
      "dtype: float64\n"
     ]
    }
   ],
   "source": [
    "variance = (simple_return_y).var()\n",
    "print('variance of annual return:\\n',variance)"
   ]
  },
  {
   "cell_type": "code",
   "execution_count": 8,
   "id": "e05e7dc9",
   "metadata": {},
   "outputs": [
    {
     "name": "stdout",
     "output_type": "stream",
     "text": [
      "covariance of annual return:\n",
      "            MSFT     ^GSPC\n",
      "MSFT   0.567234  0.357997\n",
      "^GSPC  0.357997  0.409387\n"
     ]
    }
   ],
   "source": [
    "covar = (simple_return_y).cov()\n",
    "print('covariance of annual return:\\n',covar)"
   ]
  },
  {
   "cell_type": "code",
   "execution_count": 9,
   "id": "00c56323",
   "metadata": {},
   "outputs": [
    {
     "name": "stdout",
     "output_type": "stream",
     "text": [
      "0.874470147592908\n"
     ]
    }
   ],
   "source": [
    "Beta = covar.iloc[0,1]/variance.iloc[1]\n",
    "print(Beta)"
   ]
  },
  {
   "cell_type": "markdown",
   "id": "2afda563",
   "metadata": {},
   "source": [
    "$$\n",
    "  return_{expected} = (10 Year US Governemnt Bond Yield) + Beta * Market Risk Permimu\n",
    "$$\n",
    "\n",
    "10 Year US Governemnt Bond Yield = 2.5%\n",
    "\n",
    "Market risk permimu = 5%"
   ]
  },
  {
   "cell_type": "code",
   "execution_count": null,
   "id": "bb9489f1",
   "metadata": {},
   "outputs": [],
   "source": []
  }
 ],
 "metadata": {
  "kernelspec": {
   "display_name": "Python 3 (ipykernel)",
   "language": "python",
   "name": "python3"
  },
  "language_info": {
   "codemirror_mode": {
    "name": "ipython",
    "version": 3
   },
   "file_extension": ".py",
   "mimetype": "text/x-python",
   "name": "python",
   "nbconvert_exporter": "python",
   "pygments_lexer": "ipython3",
   "version": "3.9.13"
  }
 },
 "nbformat": 4,
 "nbformat_minor": 5
}
